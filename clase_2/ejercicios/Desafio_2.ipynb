{
 "cells": [
  {
   "cell_type": "markdown",
   "metadata": {},
   "source": [
    "# Desafío 2 - Procesamiento del Lenguaje Natural I\n",
    "\n",
    "### Carrera de Especialización en Inteligencia Artificial - Cohorte 17\n",
    "\n",
    "#### Autor: Alejandro Lloveras"
   ]
  },
  {
   "cell_type": "markdown",
   "metadata": {},
   "source": [
    "***NOTA PARA EJECUCIÓN:***\n",
    "- Cada punto de la resolución debe ejecutarse de forma unitaria: se inicializa ejecutando la sección 'Indotrucción' y luego la sección del punto correspondiente."
   ]
  },
  {
   "cell_type": "markdown",
   "metadata": {},
   "source": [
    "### Consigna"
   ]
  },
  {
   "cell_type": "markdown",
   "metadata": {},
   "source": [
    "1. Crear sus propios vectores con Gensim basado en lo visto en clase con otro dataset.\n",
    "2. Probar términos de interés y explicar similitudes en el espacio de embeddings.\n",
    "3. Intentar plantear y probar tests de analogías. Graficar los embeddings resultantes.\n",
    "4. Sacar conclusiones."
   ]
  },
  {
   "cell_type": "code",
   "execution_count": null,
   "metadata": {},
   "outputs": [],
   "source": [
    "import random"
   ]
  },
  {
   "cell_type": "markdown",
   "metadata": {},
   "source": [
    "## Importación del dataset\n",
    "Para este desafío trabajaré con un dataset de cosecha propia, compuesto por +3700 letras de tango."
   ]
  },
  {
   "cell_type": "markdown",
   "metadata": {},
   "source": [
    "Para su construcción realicé scraping del sitio *todotango.com*\n",
    "> https://www.todotango.com/musica/obras/letras/-/7/Tango/"
   ]
  },
  {
   "cell_type": "markdown",
   "metadata": {},
   "source": [
    "### Descripción del dataset"
   ]
  },
  {
   "cell_type": "markdown",
   "metadata": {},
   "source": [
    "- Compuesto por **3.769 elementos** *(canciones)*\n",
    "- Idioma Español -> Variante Rioplatense -> Argot lunfardo\n",
    "- Cada letra se encuentra almacenada en un archivo .TXT dentro de la carpeta 'lyrics' *(cod. utf-8)*\n",
    "- Almacenamiento 15,4 MB"
   ]
  },
  {
   "cell_type": "markdown",
   "metadata": {},
   "source": [
    "## 1. Vectorización con Gensim"
   ]
  },
  {
   "cell_type": "code",
   "execution_count": null,
   "metadata": {},
   "outputs": [],
   "source": []
  },
  {
   "cell_type": "markdown",
   "metadata": {},
   "source": [
    "## 2. Análisis de términos de interés"
   ]
  },
  {
   "cell_type": "code",
   "execution_count": null,
   "metadata": {},
   "outputs": [],
   "source": []
  },
  {
   "cell_type": "markdown",
   "metadata": {},
   "source": [
    "## 3. Test de analogías"
   ]
  },
  {
   "cell_type": "markdown",
   "metadata": {},
   "source": [
    "### 3.1 Tests de analogías"
   ]
  },
  {
   "cell_type": "code",
   "execution_count": null,
   "metadata": {},
   "outputs": [],
   "source": []
  },
  {
   "cell_type": "markdown",
   "metadata": {},
   "source": [
    "### 3.2 Grafico de embeddings"
   ]
  },
  {
   "cell_type": "code",
   "execution_count": null,
   "metadata": {},
   "outputs": [],
   "source": []
  },
  {
   "cell_type": "markdown",
   "metadata": {},
   "source": [
    "## 4. Conclusiones"
   ]
  }
 ],
 "metadata": {
  "language_info": {
   "name": "python"
  }
 },
 "nbformat": 4,
 "nbformat_minor": 2
}
