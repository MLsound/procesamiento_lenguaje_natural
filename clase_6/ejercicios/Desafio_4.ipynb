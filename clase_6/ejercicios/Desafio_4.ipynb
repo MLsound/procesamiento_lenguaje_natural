{
  "cells": [
    {
      "cell_type": "markdown",
      "metadata": {
        "id": "dc6qGGCW2agk"
      },
      "source": [
        "<img src=\"https://github.com/hernancontigiani/ceia_memorias_especializacion/raw/master/Figures/logoFIUBA.jpg\" width=\"500\" align=\"center\">\n",
        "\n",
        "# **Desafío 4:** *LSTM Bot QA*\n",
        "## Procesamiento del Lenguaje Natural I\n",
        "### Carrera de Especialización en Inteligencia Artificial - Cohorte 17\n",
        "##### Docentes: Rodrigo Cárdenas / Nicolás  Vattuone\n",
        "#### Autor: Alejandro Lloveras"
      ]
    },
    {
      "cell_type": "markdown",
      "metadata": {
        "id": "FJeNRwkG2agl"
      },
      "source": [
        "### Consigna\n",
        "- Construir un BOT para responder a preguntas del usuario (QA).\n",
        "- Utilizar datos disponibles del challenge **ConvAI2** *(Conversational Intelligence Challenge 2)* de conversaciones en inglés.\n",
        "- Preparar los embeddings para transformar los tokens de entrada en vectores\n",
        "- Entrenar un modelo basado en el esquema encoder-decoder utilizando los datos generados.\n",
        "- Experimentar el funcionamiento del modelo. Realizar la inferencia de los modelos por separado de encoder y decoder."
      ]
    },
    {
      "cell_type": "markdown",
      "metadata": {
        "id": "ZqO0PRcFsPTe"
      },
      "source": [
        "### Datos\n",
        "El objecto es utilizar datos disponibles del challenge **ConvAI2** *(Conversational Intelligence Challenge 2)* de conversaciones en inglés. Se construirá un BOT para responder a preguntas del usuario (QA).\n",
        "\n",
        "[Dataset](http://convai.io/data/)"
      ]
    },
    {
      "cell_type": "markdown",
      "metadata": {
        "id": "UoaoF6Zh2agm"
      },
      "source": [
        "### Inicialización"
      ]
    },
    {
      "cell_type": "code",
      "execution_count": 1,
      "metadata": {
        "id": "bDFC0I3j9oFD"
      },
      "outputs": [],
      "source": [
        "!pip install --upgrade --no-cache-dir gdown --quiet"
      ]
    },
    {
      "cell_type": "code",
      "execution_count": 2,
      "metadata": {
        "id": "cq3YXak9sGHd"
      },
      "outputs": [],
      "source": [
        "# Librerías estándar\n",
        "import os\n",
        "import re\n",
        "import logging\n",
        "import pickle\n",
        "from pathlib import Path\n",
        "from io import StringIO\n",
        "\n",
        "# Manipulación y Análisis de Datos\n",
        "import numpy as np\n",
        "import pandas as pd\n",
        "\n",
        "# PyTorch Data Handling\n",
        "from torch.utils.data import Dataset, DataLoader\n",
        "\n",
        "# Preprocesamiento de Texto\n",
        "from tensorflow.keras.preprocessing.text import Tokenizer, one_hot\n",
        "from tensorflow.keras.utils import pad_sequences\n",
        "\n",
        "# División de Datos\n",
        "from sklearn.model_selection import train_test_split\n",
        "\n",
        "# Utilidades Keras/TensorFlow\n",
        "import torch\n",
        "import torch.nn as nn\n",
        "import torch.nn.functional as F\n",
        "\n",
        "# Construcción de Modelos y Capas Core (TensorFlow/Keras)\n",
        "import tensorflow as tf\n",
        "from tensorflow.keras.layers import Activation, Dropout, Dense, Embedding, Flatten, Input, LSTM, SimpleRNN\n",
        "from tensorflow.keras.models import Model, Sequential"
      ]
    },
    {
      "cell_type": "code",
      "execution_count": 3,
      "metadata": {
        "colab": {
          "base_uri": "https://localhost:8080/"
        },
        "id": "vELUyQ8bDHj6",
        "outputId": "7b0d4f61-4133-4c3b-8dff-59ca330b975d"
      },
      "outputs": [
        {
          "data": {
            "text/plain": [
              "device(type='cuda')"
            ]
          },
          "execution_count": 3,
          "metadata": {},
          "output_type": "execute_result"
        }
      ],
      "source": [
        "cuda = torch.cuda.is_available()\n",
        "device = torch.device('cuda' if torch.cuda.is_available() else 'cpu')\n",
        "device"
      ]
    },
    {
      "cell_type": "code",
      "execution_count": 4,
      "metadata": {
        "colab": {
          "base_uri": "https://localhost:8080/"
        },
        "id": "Q-KZy5SyDHj6",
        "outputId": "a9afb7f3-ea31-4a87-bffc-283e065c3680"
      },
      "outputs": [
        {
          "name": "stdout",
          "output_type": "stream",
          "text": [
            "Collecting torchinfo\n",
            "  Downloading torchinfo-1.8.0-py3-none-any.whl.metadata (21 kB)\n",
            "Downloading torchinfo-1.8.0-py3-none-any.whl (23 kB)\n",
            "Installing collected packages: torchinfo\n",
            "Successfully installed torchinfo-1.8.0\n"
          ]
        }
      ],
      "source": [
        "# torchsummar actualmente tiene un problema con las LSTM, por eso\n",
        "# se utiliza torchinfo, un fork del proyecto original con el bug solucionado\n",
        "!pip3 install torchinfo\n",
        "from torchinfo import summary"
      ]
    },
    {
      "cell_type": "code",
      "execution_count": null,
      "metadata": {},
      "outputs": [
        {
          "name": "stdout",
          "output_type": "stream",
          "text": [
            "Collecting torch_helpers\n",
            "  Downloading torch_helpers-0.4.6-py3-none-any.whl.metadata (598 bytes)\n",
            "Downloading torch_helpers-0.4.6-py3-none-any.whl (5.2 kB)\n",
            "Installing collected packages: torch_helpers\n",
            "Successfully installed torch_helpers-0.4.6\n",
            "Collecting moleskin\n",
            "  Downloading moleskin-1.5.1-py3-none-any.whl.metadata (701 bytes)\n",
            "Collecting boltons\n",
            "  Downloading boltons-25.0.0-py3-none-any.whl.metadata (6.5 kB)\n",
            "Requirement already satisfied: termcolor in /usr/local/lib/python3.11/dist-packages (3.0.1)\n",
            "INFO: pip is looking at multiple versions of moleskin to determine which version is compatible with other requirements. This could take a while.\n",
            "Collecting moleskin\n",
            "  Downloading moleskin-1.5.0-py3-none-any.whl.metadata (701 bytes)\n",
            "  Downloading moleskin-1.4.0-py3-none-any.whl.metadata (735 bytes)\n",
            "  Downloading moleskin-1.3.1-py3-none-any.whl.metadata (735 bytes)\n",
            "  Downloading moleskin-1.3.0-py3-none-any.whl.metadata (701 bytes)\n",
            "  Downloading moleskin-1.2.0-py3-none-any.whl.metadata (701 bytes)\n",
            "  Downloading moleskin-1.1.1-py3-none-any.whl.metadata (701 bytes)\n",
            "  Downloading moleskin-1.1.0-py3-none-any.whl.metadata (701 bytes)\n",
            "INFO: pip is still looking at multiple versions of moleskin to determine which version is compatible with other requirements. This could take a while.\n",
            "  Downloading moleskin-1.0.0-py3-none-any.whl.metadata (678 bytes)\n",
            "  Downloading moleskin-0.1.1-py3-none-any.whl.metadata (678 bytes)\n",
            "  Downloading moleskin-0.1.0-py3-none-any.whl.metadata (678 bytes)\n",
            "  Downloading moleskin-0.0.8-py3-none-any.whl.metadata (590 bytes)\n",
            "  Downloading moleskin-0.0.7-py3-none-any.whl.metadata (573 bytes)\n",
            "INFO: This is taking longer than usual. You might need to provide the dependency resolver with stricter constraints to reduce runtime. See https://pip.pypa.io/warnings/backtracking for guidance. If you want to abort this run, press Ctrl + C.\n",
            "  Downloading moleskin-0.0.6-py3-none-any.whl.metadata (573 bytes)\n",
            "  Downloading moleskin-0.0.5-py3-none-any.whl.metadata (549 bytes)\n",
            "  Downloading moleskin-0.0.4-py3-none-any.whl.metadata (549 bytes)\n",
            "  Downloading moleskin-0.0.3-py3-none-any.whl.metadata (549 bytes)\n",
            "  Downloading moleskin-0.0.2-py3-none-any.whl.metadata (549 bytes)\n",
            "  Downloading moleskin-0.0.1-py3-none-any.whl.metadata (549 bytes)\n",
            "  Downloading moleskin-0.0.0-py3-none-any.whl.metadata (549 bytes)\n",
            "\u001b[31mERROR: Cannot install moleskin==0.0.0, moleskin==0.0.1, moleskin==0.0.2, moleskin==0.0.3, moleskin==0.0.4, moleskin==0.0.5, moleskin==0.0.6, moleskin==0.0.7, moleskin==0.0.8, moleskin==0.1.0, moleskin==0.1.1, moleskin==1.0.0, moleskin==1.1.0, moleskin==1.1.1, moleskin==1.2.0, moleskin==1.3.0, moleskin==1.3.1, moleskin==1.4.0, moleskin==1.5.0 and moleskin==1.5.1 because these package versions have conflicting dependencies.\u001b[0m\u001b[31m\n",
            "\u001b[0m\n",
            "The conflict is caused by:\n",
            "    moleskin 1.5.1 depends on pprint\n",
            "    moleskin 1.5.0 depends on pprint\n",
            "    moleskin 1.4.0 depends on pprint\n",
            "    moleskin 1.3.1 depends on pprint\n",
            "    moleskin 1.3.0 depends on pprint\n",
            "    moleskin 1.2.0 depends on pprint\n",
            "    moleskin 1.1.1 depends on pprint\n",
            "    moleskin 1.1.0 depends on pprint\n",
            "    moleskin 1.0.0 depends on pprint\n",
            "    moleskin 0.1.1 depends on pprint\n",
            "    moleskin 0.1.0 depends on pprint\n",
            "    moleskin 0.0.8 depends on pprint\n",
            "    moleskin 0.0.7 depends on pprint\n",
            "    moleskin 0.0.6 depends on pprint\n",
            "    moleskin 0.0.5 depends on pprint\n",
            "    moleskin 0.0.4 depends on pprint\n",
            "    moleskin 0.0.3 depends on pprint\n",
            "    moleskin 0.0.2 depends on pprint\n",
            "    moleskin 0.0.1 depends on pprint\n",
            "    moleskin 0.0.0 depends on pprint\n",
            "\n",
            "To fix this you could try to:\n",
            "1. loosen the range of package versions you've specified\n",
            "2. remove package versions to allow pip to attempt to solve the dependency conflict\n",
            "\n",
            "\u001b[31mERROR: ResolutionImpossible: for help visit https://pip.pypa.io/en/latest/topics/dependency-resolution/#dealing-with-dependency-conflicts\u001b[0m\u001b[31m\n",
            "\u001b[0m"
          ]
        }
      ],
      "source": [
        "!pip install --no-deps torch_helpers\n",
        "!pip install moleskin boltons termcolor"
      ]
    },
    {
      "cell_type": "code",
      "execution_count": 5,
      "metadata": {
        "colab": {
          "base_uri": "https://localhost:8080/"
        },
        "id": "iGgRcirwDHj7",
        "outputId": "6c69ff80-1172-463f-d8df-c2793971ed1c"
      },
      "outputs": [
        {
          "name": "stdout",
          "output_type": "stream",
          "text": [
            "--2025-04-23 22:35:17--  http://torch_helpers.py/\n",
            "Resolving torch_helpers.py (torch_helpers.py)... failed: Name or service not known.\n",
            "wget: unable to resolve host address ‘torch_helpers.py’\n",
            "--2025-04-23 22:35:17--  https://raw.githubusercontent.com/FIUBA-Posgrado-Inteligencia-Artificial/procesamiento_lenguaje_natural/main/scripts/torch_helpers.py\n",
            "Resolving raw.githubusercontent.com (raw.githubusercontent.com)... 185.199.110.133, 185.199.108.133, 185.199.111.133, ...\n",
            "Connecting to raw.githubusercontent.com (raw.githubusercontent.com)|185.199.110.133|:443... connected.\n",
            "HTTP request sent, awaiting response... 200 OK\n",
            "Length: 23883 (23K) [text/plain]\n",
            "Saving to: ‘torch_helpers.py’\n",
            "\n",
            "torch_helpers.py    100%[===================>]  23.32K  --.-KB/s    in 0.001s  \n",
            "\n",
            "2025-04-23 22:35:18 (29.6 MB/s) - ‘torch_helpers.py’ saved [23883/23883]\n",
            "\n",
            "FINISHED --2025-04-23 22:35:18--\n",
            "Total wall clock time: 0.6s\n",
            "Downloaded: 1 files, 23K in 0.001s (29.6 MB/s)\n"
          ]
        }
      ],
      "source": [
        "import platform\n",
        "\n",
        "if os.access('torch_helpers.py', os.F_OK) is False:\n",
        "    if platform.system() == 'Windows':\n",
        "        !curl !wget https://raw.githubusercontent.com/FIUBA-Posgrado-Inteligencia-Artificial/procesamiento_lenguaje_natural/main/scripts/torch_helpers.py > torch_helpers.py\n",
        "    else:\n",
        "        !wget torch_helpers.py https://raw.githubusercontent.com/FIUBA-Posgrado-Inteligencia-Artificial/procesamiento_lenguaje_natural/main/scripts/torch_helpers.py"
      ]
    },
    {
      "cell_type": "markdown",
      "metadata": {},
      "source": [
        "#### Funciones necesarias"
      ]
    },
    {
      "cell_type": "code",
      "execution_count": 6,
      "metadata": {
        "id": "zoRzdNBEDHj8"
      },
      "outputs": [],
      "source": [
        "def sequence_acc(y_pred, y_test):\n",
        "    y_pred_tag = y_pred.data.max(dim=-1,keepdim=True)[1]\n",
        "    y_test_tag = y_test.data.max(dim=-1,keepdim=True)[1]\n",
        "\n",
        "    batch_size = y_pred_tag.shape[0]\n",
        "    batch_acc = torch.zeros(batch_size)\n",
        "    for b in range(batch_size):\n",
        "        correct_results_sum = (y_pred_tag[b] == y_test_tag[b]).sum().float()\n",
        "        batch_acc[b] = correct_results_sum / y_pred_tag[b].shape[0]\n",
        "\n",
        "    correct_results_sum = batch_acc.sum().float()\n",
        "    acc = correct_results_sum / batch_size\n",
        "    return acc\n",
        "\n",
        "def train(model, train_loader, valid_loader, optimizer, criterion, epochs=100):\n",
        "    # Defino listas para realizar graficas de los resultados\n",
        "    train_loss = []\n",
        "    train_accuracy = []\n",
        "    valid_loss = []\n",
        "    valid_accuracy = []\n",
        "\n",
        "    # Defino mi loop de entrenamiento\n",
        "\n",
        "    for epoch in range(epochs):\n",
        "\n",
        "        epoch_train_loss = 0.0\n",
        "        epoch_train_accuracy = 0.0\n",
        "\n",
        "        for train_encoder_input, train_decoder_input, train_target in train_loader:\n",
        "            # Seteo los gradientes en cero ya que, por defecto, PyTorch los va acumulando\n",
        "            optimizer.zero_grad()\n",
        "\n",
        "            output = model(train_encoder_input.to(device), train_decoder_input.to(device))\n",
        "\n",
        "            # Computo el error de la salida comparando contra las etiquetas\n",
        "            # por cada token en cada batch (sequence_loss)\n",
        "            loss = 0\n",
        "            for t in range(train_decoder_input.shape[1]):\n",
        "                loss += criterion(output[:, t, :], train_target[:, t, :])\n",
        "\n",
        "            # Almaceno el error del batch para luego tener el error promedio de la epoca\n",
        "            epoch_train_loss += loss.item()\n",
        "\n",
        "            # Computo el nuevo set de gradientes a lo largo de toda la red\n",
        "            loss.backward()\n",
        "\n",
        "            # Realizo el paso de optimizacion actualizando los parametros de toda la red\n",
        "            optimizer.step()\n",
        "\n",
        "            # Calculo el accuracy del batch\n",
        "            accuracy = sequence_acc(output, train_target)\n",
        "            # Almaceno el accuracy del batch para luego tener el accuracy promedio de la epoca\n",
        "            epoch_train_accuracy += accuracy.item()\n",
        "\n",
        "        # Calculo la media de error para la epoca de entrenamiento.\n",
        "        # La longitud de train_loader es igual a la cantidad de batches dentro de una epoca.\n",
        "        epoch_train_loss = epoch_train_loss / len(train_loader)\n",
        "        train_loss.append(epoch_train_loss)\n",
        "        epoch_train_accuracy = epoch_train_accuracy / len(train_loader)\n",
        "        train_accuracy.append(epoch_train_accuracy)\n",
        "\n",
        "        # Realizo el paso de validación computando error y accuracy, y\n",
        "        # almacenando los valores para imprimirlos y graficarlos\n",
        "        #valid_encoder_input, valid_decoder_input, valid_target = iter(valid_loader).next()\n",
        "        valid_encoder_input, valid_decoder_input, valid_target = next(iter(valid_loader))\n",
        "        output = model(valid_encoder_input.to(device), valid_decoder_input.to(device))\n",
        "\n",
        "        epoch_valid_loss = 0\n",
        "        for t in range(train_decoder_input.shape[1]):\n",
        "                epoch_valid_loss += criterion(output[:, t, :], valid_target[:, t, :])\n",
        "        epoch_valid_loss = epoch_valid_loss.item()\n",
        "\n",
        "        valid_loss.append(epoch_valid_loss)\n",
        "\n",
        "        # Calculo el accuracy de la epoch\n",
        "        epoch_valid_accuracy = sequence_acc(output, valid_target).item()\n",
        "        valid_accuracy.append(epoch_valid_accuracy)\n",
        "\n",
        "        print(f\"Epoch: {epoch+1}/{epochs} - Train loss {epoch_train_loss:.3f} - Train accuracy {epoch_train_accuracy:.3f} - Valid Loss {epoch_valid_loss:.3f} - Valid accuracy {epoch_valid_accuracy:.3f}\")\n",
        "\n",
        "    history = {\n",
        "        \"loss\": train_loss,\n",
        "        \"accuracy\": train_accuracy,\n",
        "        \"val_loss\": valid_loss,\n",
        "        \"val_accuracy\": valid_accuracy,\n",
        "    }\n",
        "    return history"
      ]
    },
    {
      "cell_type": "code",
      "execution_count": 7,
      "metadata": {
        "id": "o_kn51y2JJpq"
      },
      "outputs": [],
      "source": [
        "def train(model, train_loader, valid_loader, optimizer, criterion, epochs=100):\n",
        "    # Defino listas para realizar graficas de los resultados\n",
        "    train_loss = []\n",
        "    train_accuracy = []\n",
        "    valid_loss = []\n",
        "    valid_accuracy = []\n",
        "\n",
        "    # Defino mi loop de entrenamiento\n",
        "\n",
        "    for epoch in range(epochs):\n",
        "\n",
        "        epoch_train_loss = 0.0\n",
        "        epoch_train_accuracy = 0.0\n",
        "\n",
        "        # Inicia el bucle de entrenamiento por batch\n",
        "        for train_encoder_input, train_decoder_input, train_target in train_loader:\n",
        "            optimizer.zero_grad()\n",
        "\n",
        "            output = model(train_encoder_input.to(device), train_decoder_input.to(device))\n",
        "\n",
        "            # Computo el error del batch - INEFICIENTE BUCLE t\n",
        "            loss = 0\n",
        "            for t in range(train_decoder_input.shape[1]):\n",
        "                loss += criterion(output[:, t, :], train_target[:, t, :])\n",
        "\n",
        "            epoch_train_loss += loss.item() # Acumula pérdida por batch\n",
        "\n",
        "            loss.backward()\n",
        "            optimizer.step()\n",
        "\n",
        "            # Calculo el accuracy del batch\n",
        "            accuracy = sequence_acc(output, train_target)\n",
        "            epoch_train_accuracy += accuracy.item() # Acumula accuracy por batch\n",
        "\n",
        "        # Calcula la media de metrics por epoca\n",
        "        epoch_train_loss = epoch_train_loss / len(train_loader)\n",
        "        train_loss.append(epoch_train_loss)\n",
        "        epoch_train_accuracy = epoch_train_accuracy / len(train_loader)\n",
        "        train_accuracy.append(epoch_train_accuracy)\n",
        "\n",
        "        # Realizo el paso de validación - ¡¡SOLO UN BATCH!!\n",
        "        #valid_encoder_input, valid_decoder_input, valid_target = iter(valid_loader).next()\n",
        "        valid_encoder_input, valid_decoder_input, valid_target = next(iter(valid_loader)) # <= PROBLEMA MAYOR\n",
        "\n",
        "        # Falta with torch.no_grad(): y model.eval()\n",
        "        output = model(valid_encoder_input.to(device), valid_decoder_input.to(device))\n",
        "\n",
        "        epoch_valid_loss = 0 # Acumula pérdida por batch\n",
        "        for t in range(train_decoder_input.shape[1]): # INEFICIENTE BUCLE t, y usa shape[1] de train_decoder_input\n",
        "                epoch_valid_loss += criterion(output[:, t, :], valid_target[:, t, :])\n",
        "        epoch_valid_loss = epoch_valid_loss.item() # Solo tiene la pérdida del ULTIMO batch procesado (solo 1 batch)\n",
        "\n",
        "        valid_loss.append(epoch_valid_loss) # Solo añade la pérdida de UN batch\n",
        "\n",
        "        # Calculo el accuracy de la epoch - ¡¡SOLO UN BATCH!!\n",
        "        epoch_valid_accuracy = sequence_acc(output, valid_target).item() # Solo tiene el accuracy de UN batch\n",
        "        valid_accuracy.append(epoch_valid_accuracy)\n",
        "\n",
        "        print(f\"Epoch: {epoch+1}/{epochs} - Train loss {epoch_train_loss:.3f} - Train accuracy {epoch_train_accuracy:.3f} - Valid Loss {epoch_valid_loss:.3f} - Valid accuracy {epoch_valid_accuracy:.3f}\")\n",
        "\n",
        "    history = {\n",
        "        \"loss\": train_loss,\n",
        "        \"accuracy\": train_accuracy,\n",
        "        \"val_loss\": valid_loss,\n",
        "        \"val_accuracy\": valid_accuracy,\n",
        "    }\n",
        "    return history"
      ]
    },
    {
      "cell_type": "markdown",
      "metadata": {
        "id": "MWA4sTXH2agn"
      },
      "source": [
        "## 1. Descarga del dataset"
      ]
    },
    {
      "cell_type": "code",
      "execution_count": 8,
      "metadata": {
        "colab": {
          "base_uri": "https://localhost:8080/"
        },
        "id": "RHNkUaPp6aYq",
        "outputId": "8191dfa3-a298-4a13-f96c-969e888b284c"
      },
      "outputs": [
        {
          "name": "stderr",
          "output_type": "stream",
          "text": [
            "Downloading...\n",
            "From: https://drive.google.com/uc?id=1awUxYwImF84MIT5-jCaYAPe2QwSgS1hN&export=download\n",
            "To: /content/data_volunteers.json\n",
            "100%|██████████| 2.58M/2.58M [00:00<00:00, 85.9MB/s]\n"
          ]
        }
      ],
      "source": [
        "# Descargar la carpeta de dataset\n",
        "import gdown\n",
        "if os.access('data_volunteers.json', os.F_OK) is False:\n",
        "    url = 'https://drive.google.com/uc?id=1awUxYwImF84MIT5-jCaYAPe2QwSgS1hN&export=download'\n",
        "    output = 'data_volunteers.json'\n",
        "    gdown.download(url, output, quiet=False)\n",
        "else:\n",
        "    print(\"✅ El dataset ya se encuentra descargado\")"
      ]
    },
    {
      "cell_type": "code",
      "execution_count": null,
      "metadata": {
        "id": "WZy1-wgG-Rp7"
      },
      "outputs": [],
      "source": [
        "import json\n",
        "\n",
        "text_file = \"data_volunteers.json\"\n",
        "with open(text_file) as f:\n",
        "    data = json.load(f) # la variable data será un diccionario"
      ]
    },
    {
      "cell_type": "code",
      "execution_count": null,
      "metadata": {
        "colab": {
          "base_uri": "https://localhost:8080/"
        },
        "id": "ue5qd54S-eew",
        "outputId": "589c5fc7-75e4-4846-b0f2-0ce39cfc074b"
      },
      "outputs": [
        {
          "data": {
            "text/plain": [
              "dict_keys(['dialog', 'start_time', 'end_time', 'bot_profile', 'user_profile', 'eval_score', 'profile_match', 'participant1_id', 'participant2_id'])"
            ]
          },
          "execution_count": 10,
          "metadata": {},
          "output_type": "execute_result"
        }
      ],
      "source": [
        "# Observamos los campos disponibles en cada linea del dataset\n",
        "data[0].keys()"
      ]
    },
    {
      "cell_type": "code",
      "execution_count": 11,
      "metadata": {
        "colab": {
          "base_uri": "https://localhost:8080/"
        },
        "id": "jHBRAXPl-3dz",
        "outputId": "0b929f5e-cff9-4b0b-f5f9-8b8ec7f290ec"
      },
      "outputs": [
        {
          "name": "stdout",
          "output_type": "stream",
          "text": [
            "▪ Cantidad de rows utilizadas: 6033\n"
          ]
        }
      ],
      "source": [
        "chat_in = []\n",
        "chat_out = []\n",
        "\n",
        "input_sentences = []\n",
        "output_sentences = []\n",
        "output_sentences_inputs = []\n",
        "max_len = 30\n",
        "\n",
        "def clean_text(txt):\n",
        "    txt = txt.lower()\n",
        "    txt.replace(\"\\'d\", \" had\")\n",
        "    txt.replace(\"\\'s\", \" is\")\n",
        "    txt.replace(\"\\'m\", \" am\")\n",
        "    txt.replace(\"don't\", \"do not\")\n",
        "    txt = re.sub(r'\\W+', ' ', txt)\n",
        "\n",
        "    return txt\n",
        "\n",
        "for line in data:\n",
        "    for i in range(len(line['dialog'])-1):\n",
        "        # vamos separando el texto en \"preguntas\" (chat_in)\n",
        "        # y \"respuestas\" (chat_out)\n",
        "        chat_in = clean_text(line['dialog'][i]['text'])\n",
        "        chat_out = clean_text(line['dialog'][i+1]['text'])\n",
        "\n",
        "        if len(chat_in) >= max_len or len(chat_out) >= max_len:\n",
        "            continue\n",
        "\n",
        "        input_sentence, output = chat_in, chat_out\n",
        "\n",
        "        # output sentence (decoder_output) tiene <eos>\n",
        "        output_sentence = output + ' <eos>'\n",
        "        # output sentence input (decoder_input) tiene <sos>\n",
        "        output_sentence_input = '<sos> ' + output\n",
        "\n",
        "        input_sentences.append(input_sentence)\n",
        "        output_sentences.append(output_sentence)\n",
        "        output_sentences_inputs.append(output_sentence_input)\n",
        "\n",
        "print(\"▪ Cantidad de rows utilizadas:\", len(input_sentences))"
      ]
    },
    {
      "cell_type": "code",
      "execution_count": 12,
      "metadata": {
        "colab": {
          "base_uri": "https://localhost:8080/"
        },
        "id": "07L1qj8pC_l6",
        "outputId": "36567b2e-4049-46af-d1a8-4bd175798b6a"
      },
      "outputs": [
        {
          "data": {
            "text/plain": [
              "('hi how are you ', 'not bad and you  <eos>', '<sos> not bad and you ')"
            ]
          },
          "execution_count": 12,
          "metadata": {},
          "output_type": "execute_result"
        }
      ],
      "source": [
        "input_sentences[1], output_sentences[1], output_sentences_inputs[1]"
      ]
    },
    {
      "cell_type": "markdown",
      "metadata": {
        "id": "8P-ynUNP5xp6"
      },
      "source": [
        "## 2. Preprocesamiento"
      ]
    },
    {
      "cell_type": "code",
      "execution_count": null,
      "metadata": {
        "id": "VxbAcfSp2agr"
      },
      "outputs": [],
      "source": [
        "# Definimos el tamaño máximo del vocabulario\n",
        "MAX_VOCAB_SIZE = 8000"
      ]
    },
    {
      "cell_type": "markdown",
      "metadata": {
        "id": "24Ore_JP2agr"
      },
      "source": [
        "### 2.1 Datos de Entrada:\n",
        "Calculo de `word2idx_inputs`, `max_input_len`"
      ]
    },
    {
      "cell_type": "code",
      "execution_count": null,
      "metadata": {
        "colab": {
          "base_uri": "https://localhost:8080/"
        },
        "id": "80BpTOK02agr",
        "outputId": "c546f433-716a-4078-c26c-1b32a0a9aebf"
      },
      "outputs": [
        {
          "name": "stdout",
          "output_type": "stream",
          "text": [
            "▪ Palabras en el vocabulario: 1799\n",
            "▪ Oración de entrada más larga: 9\n"
          ]
        }
      ],
      "source": [
        "# Tokenizamos las palabras con el Tokenizer de Keras\n",
        "# Definir una máxima cantidad de palabras a utilizar:\n",
        "# - num_words --> the maximum number of words to keep, based on word frequency.\n",
        "# - Only the most common num_words-1 words will be kept.\n",
        "input_tokenizer = Tokenizer(num_words=MAX_VOCAB_SIZE)\n",
        "input_tokenizer.fit_on_texts(input_sentences)\n",
        "input_integer_seq = input_tokenizer.texts_to_sequences(input_sentences)\n",
        "\n",
        "word2idx_inputs = input_tokenizer.word_index\n",
        "print(\"▪ Palabras en el vocabulario:\", len(word2idx_inputs))\n",
        "\n",
        "max_input_len = max(len(sen) for sen in input_integer_seq)\n",
        "print(\"▪ Oración de entrada más larga:\", max_input_len)"
      ]
    },
    {
      "cell_type": "markdown",
      "metadata": {
        "id": "70aDXToX2agr"
      },
      "source": [
        "### 2.2 Datos de Salida:\n",
        "Calculo de `word2idx_outputs`, `max_out_len`, `num_words_output`"
      ]
    },
    {
      "cell_type": "code",
      "execution_count": 16,
      "metadata": {
        "colab": {
          "base_uri": "https://localhost:8080/"
        },
        "id": "SnXtc5CR2agr",
        "outputId": "c996f3a0-ce65-4544-c1c6-865ea27b34bb"
      },
      "outputs": [
        {
          "name": "stdout",
          "output_type": "stream",
          "text": [
            "▪ Palabras en el vocabulario: 1806\n",
            "▪ Oración de salida más larga: 10\n"
          ]
        }
      ],
      "source": [
        "# A los filtros de símbolos del Tokenizer agregamos el \"¿\",\n",
        "# sacamos los \"<>\" para que no afectar nuestros tokens\n",
        "output_tokenizer = Tokenizer(num_words=MAX_VOCAB_SIZE, filters='!\"#$%&()*+,-./:;=¿?@[\\\\]^_`{|}~\\t\\n')\n",
        "output_tokenizer.fit_on_texts([\"<sos>\", \"<eos>\"] + output_sentences)\n",
        "output_integer_seq = output_tokenizer.texts_to_sequences(output_sentences)\n",
        "output_input_integer_seq = output_tokenizer.texts_to_sequences(output_sentences_inputs)\n",
        "\n",
        "word2idx_outputs = output_tokenizer.word_index\n",
        "print(\"▪ Palabras en el vocabulario:\", len(word2idx_outputs))\n",
        "\n",
        "num_words_output = min(len(word2idx_outputs) + 1, MAX_VOCAB_SIZE) # Se suma 1 por el primer <sos>\n",
        "max_out_len = max(len(sen) for sen in output_integer_seq)\n",
        "print(\"▪ Oración de salida más larga:\", max_out_len)"
      ]
    },
    {
      "cell_type": "markdown",
      "metadata": {
        "id": "DzqQe4Dm2ags"
      },
      "source": [
        "### 2.3 Secuencias:\n",
        "Calculo de `encoder_input_sequences`, `decoder_output_sequences`, `decoder_targets`"
      ]
    },
    {
      "cell_type": "code",
      "execution_count": 17,
      "metadata": {
        "colab": {
          "base_uri": "https://localhost:8080/"
        },
        "id": "-AN6OHRr2ags",
        "outputId": "0ebcf725-00b9-474d-ba39-96b9f0239f89"
      },
      "outputs": [
        {
          "name": "stdout",
          "output_type": "stream",
          "text": [
            "▪ Cantidad de filas del dataset: 6033\n",
            "▪ Forma de 'encoder_input_sequences': (6033, 9)\n",
            "▪ Forma de 'decoder_input_sequences': (6033, 10)\n"
          ]
        }
      ],
      "source": [
        "print(\"▪ Cantidad de filas del dataset:\", len(input_integer_seq))\n",
        "\n",
        "encoder_input_sequences = pad_sequences(input_integer_seq, maxlen=max_input_len)\n",
        "print(\"▪ Forma de 'encoder_input_sequences':\", encoder_input_sequences.shape)\n",
        "\n",
        "decoder_input_sequences = pad_sequences(output_input_integer_seq, maxlen=max_out_len, padding='post')\n",
        "print(\"▪ Forma de 'decoder_input_sequences':\", decoder_input_sequences.shape)"
      ]
    },
    {
      "cell_type": "code",
      "execution_count": 18,
      "metadata": {
        "colab": {
          "base_uri": "https://localhost:8080/"
        },
        "id": "eAcrUePl3xZy",
        "outputId": "ed6876dd-714f-461b-c4b6-fce82af30bc9"
      },
      "outputs": [
        {
          "name": "stdout",
          "output_type": "stream",
          "text": [
            "▪ Forma de 'decoder_output_sequences': (6033, 10)\n"
          ]
        }
      ],
      "source": [
        "decoder_output_sequences = pad_sequences(output_integer_seq, maxlen=max_out_len, padding='post')\n",
        "print(\"▪ Forma de 'decoder_output_sequences':\", decoder_output_sequences.shape)\n"
      ]
    },
    {
      "cell_type": "code",
      "execution_count": 19,
      "metadata": {
        "colab": {
          "base_uri": "https://localhost:8080/"
        },
        "id": "6KY4eluP2ags",
        "outputId": "79f30ac7-2a49-4fa5-9481-82de1289ca56"
      },
      "outputs": [
        {
          "name": "stdout",
          "output_type": "stream",
          "text": [
            "▪ Tamaño de entrada del Encoder: 9\n",
            "▪ Tamaño de entrada del Decoder: 10\n",
            "▪ Dimensiones de salida:  1807\n"
          ]
        }
      ],
      "source": [
        "class Data(Dataset):\n",
        "    def __init__(self, encoder_input, decoder_input, decoder_output):\n",
        "        # Convertir los arrays de numpy a tensores.\n",
        "        # pytorch espera en general entradas 32bits\n",
        "        self.encoder_inputs = torch.from_numpy(encoder_input.astype(np.int32))\n",
        "        self.decoder_inputs = torch.from_numpy(decoder_input.astype(np.int32))\n",
        "        # Transformar los datos a oneHotEncoding\n",
        "        # la loss function esperan la salida float\n",
        "        self.decoder_outputs = F.one_hot(torch.from_numpy(decoder_output).to(torch.int64), num_classes=num_words_output).float()\n",
        "\n",
        "        self.len = self.decoder_outputs.shape[0]\n",
        "\n",
        "    def __getitem__(self,index):\n",
        "        return self.encoder_inputs[index], self.decoder_inputs[index], self.decoder_outputs[index]\n",
        "\n",
        "    def __len__(self):\n",
        "        return self.len\n",
        "\n",
        "data_set = Data(encoder_input_sequences, decoder_input_sequences, decoder_output_sequences)\n",
        "\n",
        "encoder_input_size = data_set.encoder_inputs.shape[1]\n",
        "print(\"▪ Tamaño de entrada del Encoder:\", encoder_input_size)\n",
        "\n",
        "decoder_input_size = data_set.decoder_inputs.shape[1]\n",
        "print(\"▪ Tamaño de entrada del Decoder:\", decoder_input_size)\n",
        "\n",
        "output_dim = data_set.decoder_outputs.shape[2]\n",
        "print(\"▪ Dimensiones de salida: \", output_dim)"
      ]
    },
    {
      "cell_type": "markdown",
      "metadata": {
        "id": "NaVCPDO32ags"
      },
      "source": [
        "Ahora, se realiza el split del dataset"
      ]
    },
    {
      "cell_type": "code",
      "execution_count": 20,
      "metadata": {
        "colab": {
          "base_uri": "https://localhost:8080/"
        },
        "id": "Auc5dFdV2ags",
        "outputId": "f347159c-6beb-43c1-abf4-600ce8d25519"
      },
      "outputs": [
        {
          "name": "stdout",
          "output_type": "stream",
          "text": [
            "▪ Tamaño del conjunto de entrenamiento: 4827\n",
            "▪ Tamaño del conjunto de validacion: 1206\n"
          ]
        }
      ],
      "source": [
        "torch.manual_seed(42)\n",
        "valid_set_size = int(data_set.len * 0.2)\n",
        "train_set_size = data_set.len - valid_set_size\n",
        "\n",
        "train_set = torch.utils.data.Subset(data_set, range(train_set_size))\n",
        "valid_set = torch.utils.data.Subset(data_set, range(train_set_size, data_set.len))\n",
        "\n",
        "print(\"▪ Tamaño del conjunto de entrenamiento:\", len(train_set))\n",
        "print(\"▪ Tamaño del conjunto de validacion:\", len(valid_set))\n",
        "\n",
        "train_loader = torch.utils.data.DataLoader(train_set, batch_size=128, shuffle=True)\n",
        "valid_loader = torch.utils.data.DataLoader(valid_set, batch_size=128, shuffle=False)"
      ]
    },
    {
      "cell_type": "markdown",
      "metadata": {
        "id": "_CJIsLBbj6rg"
      },
      "source": [
        "## 3. Preparar los embeddings\n",
        "Se utilizan los embeddings de Glove (de 50 dim) para transformar los tokens de entrada en vectores"
      ]
    },
    {
      "cell_type": "code",
      "execution_count": null,
      "metadata": {
        "colab": {
          "base_uri": "https://localhost:8080/"
        },
        "id": "aO0bxZoZ2agt",
        "outputId": "dc9ce609-1fef-48c8-d6c3-0de86d1b8b24"
      },
      "outputs": [
        {
          "name": "stderr",
          "output_type": "stream",
          "text": [
            "Downloading...\n",
            "From (original): https://drive.google.com/uc?id=1wlDBOrxPq2-3htQ6ryVo7K1XnzLcfh4r&export=download\n",
            "From (redirected): https://drive.google.com/uc?id=1wlDBOrxPq2-3htQ6ryVo7K1XnzLcfh4r&export=download&confirm=t&uuid=72b64f62-4d6f-4228-9aec-d37c2023a033\n",
            "To: /content/gloveembedding.pkl\n",
            "100%|██████████| 525M/525M [00:05<00:00, 96.8MB/s]\n"
          ]
        }
      ],
      "source": [
        "# Descargamos los embeddings desde un gogle drive (es la forma más rápida)\n",
        "# NOTA: No hay garantía de que estos links perduren, en caso de que no estén\n",
        "# disponibles descargar de la página oficial como se explica en el siguiente bloque\n",
        "if os.access('gloveembedding.pkl', os.F_OK) is False:\n",
        "    url = 'https://drive.google.com/uc?id=1wlDBOrxPq2-3htQ6ryVo7K1XnzLcfh4r&export=download'\n",
        "    output = 'gloveembedding.pkl'\n",
        "    gdown.download(url, output, quiet=False)\n",
        "else:\n",
        "    print(\"✅ Los embeddings gloveembedding.pkl ya están descargados\")"
      ]
    },
    {
      "cell_type": "code",
      "execution_count": null,
      "metadata": {
        "id": "-_rY0YtQ2agt"
      },
      "outputs": [],
      "source": [
        "class WordsEmbeddings(object):\n",
        "    logger = logging.getLogger(__name__)\n",
        "\n",
        "    def __init__(self):\n",
        "        # load the embeddings\n",
        "        words_embedding_pkl = Path(self.PKL_PATH)\n",
        "        if not words_embedding_pkl.is_file():\n",
        "            words_embedding_txt = Path(self.WORD_TO_VEC_MODEL_TXT_PATH)\n",
        "            assert words_embedding_txt.is_file(), 'Words embedding not available'\n",
        "            embeddings = self.convert_model_to_pickle()\n",
        "        else:\n",
        "            embeddings = self.load_model_from_pickle()\n",
        "        self.embeddings = embeddings\n",
        "        # build the vocabulary hashmap\n",
        "        index = np.arange(self.embeddings.shape[0])\n",
        "        # Dicctionarios para traducir de embedding a IDX de la palabra\n",
        "        self.word2idx = dict(zip(self.embeddings['word'], index))\n",
        "        self.idx2word = dict(zip(index, self.embeddings['word']))\n",
        "\n",
        "    def get_words_embeddings(self, words):\n",
        "        words_idxs = self.words2idxs(words)\n",
        "        return self.embeddings[words_idxs]['embedding']\n",
        "\n",
        "    def words2idxs(self, words):\n",
        "        return np.array([self.word2idx.get(word, -1) for word in words])\n",
        "\n",
        "    def idxs2words(self, idxs):\n",
        "        return np.array([self.idx2word.get(idx, '-1') for idx in idxs])\n",
        "\n",
        "    def load_model_from_pickle(self):\n",
        "        self.logger.debug(\n",
        "            'loading words embeddings from pickle {}'.format(\n",
        "                self.PKL_PATH\n",
        "            )\n",
        "        )\n",
        "        max_bytes = 2**28 - 1 # 256MB\n",
        "        bytes_in = bytearray(0)\n",
        "        input_size = os.path.getsize(self.PKL_PATH)\n",
        "        with open(self.PKL_PATH, 'rb') as f_in:\n",
        "            for _ in range(0, input_size, max_bytes):\n",
        "                bytes_in += f_in.read(max_bytes)\n",
        "        embeddings = pickle.loads(bytes_in)\n",
        "        self.logger.debug('words embeddings loaded')\n",
        "        return embeddings\n",
        "\n",
        "    def convert_model_to_pickle(self):\n",
        "        # create a numpy strctured array:\n",
        "        # word     embedding\n",
        "        # U50      np.float32[]\n",
        "        # word_1   a, b, c\n",
        "        # word_2   d, e, f\n",
        "        # ...\n",
        "        # word_n   g, h, i\n",
        "        self.logger.debug(\n",
        "            'converting and loading words embeddings from text file {}'.format(\n",
        "                self.WORD_TO_VEC_MODEL_TXT_PATH\n",
        "            )\n",
        "        )\n",
        "        structure = [('word', np.dtype('U' + str(self.WORD_MAX_SIZE))),\n",
        "                     ('embedding', np.float32, (self.N_FEATURES,))]\n",
        "        structure = np.dtype(structure)\n",
        "        # load numpy array from disk using a generator\n",
        "        with open(self.WORD_TO_VEC_MODEL_TXT_PATH, encoding=\"utf8\") as words_embeddings_txt:\n",
        "            embeddings_gen = (\n",
        "                (line.split()[0], line.split()[1:]) for line in words_embeddings_txt\n",
        "                if len(line.split()[1:]) == self.N_FEATURES\n",
        "            )\n",
        "            embeddings = np.fromiter(embeddings_gen, structure)\n",
        "        # add a null embedding\n",
        "        null_embedding = np.array(\n",
        "            [('null_embedding', np.zeros((self.N_FEATURES,), dtype=np.float32))],\n",
        "            dtype=structure\n",
        "        )\n",
        "        embeddings = np.concatenate([embeddings, null_embedding])\n",
        "        # dump numpy array to disk using pickle\n",
        "        max_bytes = 2**28 - 1 # # 256MB\n",
        "        bytes_out = pickle.dumps(embeddings, protocol=pickle.HIGHEST_PROTOCOL)\n",
        "        with open(self.PKL_PATH, 'wb') as f_out:\n",
        "            for idx in range(0, len(bytes_out), max_bytes):\n",
        "                f_out.write(bytes_out[idx:idx+max_bytes])\n",
        "        self.logger.debug('words embeddings loaded')\n",
        "        return embeddings\n",
        "\n",
        "\n",
        "class GloveEmbeddings(WordsEmbeddings):\n",
        "    WORD_TO_VEC_MODEL_TXT_PATH = 'glove.twitter.27B.50d.txt'\n",
        "    PKL_PATH = 'gloveembedding.pkl'\n",
        "    N_FEATURES = 50\n",
        "    WORD_MAX_SIZE = 60"
      ]
    },
    {
      "cell_type": "code",
      "execution_count": 23,
      "metadata": {
        "id": "Ef486rMw2agt"
      },
      "outputs": [],
      "source": [
        "# Por una cuestion de RAM se utilizará los embeddings de Glove de dimension 50\n",
        "model_embeddings = GloveEmbeddings()"
      ]
    },
    {
      "cell_type": "code",
      "execution_count": null,
      "metadata": {
        "colab": {
          "base_uri": "https://localhost:8080/"
        },
        "id": "7euJYgUw2agt",
        "outputId": "580e9456-f33a-4211-ff4c-4f6246fd8dbd"
      },
      "outputs": [
        {
          "name": "stdout",
          "output_type": "stream",
          "text": [
            "Preparando la matriz de embedding...\n",
            "▪ Cantidad de embeddings de palabras nulas: 38\n",
            "▪ Tamaño del vocabulario:  1799\n"
          ]
        }
      ],
      "source": [
        "# Creamos la Embedding matrix de las secuencias en ingles\n",
        "\n",
        "print('Preparando la matriz de embedding...')\n",
        "embed_dim = model_embeddings.N_FEATURES\n",
        "words_not_found = []\n",
        "\n",
        "# word_index provieen del tokenizer\n",
        "\n",
        "nb_words = min(MAX_VOCAB_SIZE, len(word2idx_inputs)) # vocab_size\n",
        "embedding_matrix = np.zeros((nb_words, embed_dim))\n",
        "for word, i in word2idx_inputs.items():\n",
        "    if i >= nb_words:\n",
        "        continue\n",
        "    embedding_vector = model_embeddings.get_words_embeddings(word)[0]\n",
        "    if (embedding_vector is not None) and len(embedding_vector) > 0:\n",
        "\n",
        "        embedding_matrix[i] = embedding_vector\n",
        "    else:\n",
        "        # words not found in embedding index will be all-zeros.\n",
        "        words_not_found.append(word)\n",
        "\n",
        "print('▪ Cantidad de embeddings de palabras nulas:', np.sum(np.sum(embedding_matrix, axis=1) == 0))\n",
        "print(\"▪ Tamaño del vocabulario: \", nb_words)"
      ]
    },
    {
      "cell_type": "code",
      "execution_count": 25,
      "metadata": {
        "colab": {
          "base_uri": "https://localhost:8080/"
        },
        "id": "uGV2djtL2agt",
        "outputId": "018cc352-822c-4141-843a-b57d97934646"
      },
      "outputs": [
        {
          "data": {
            "text/plain": [
              "(1799, 50)"
            ]
          },
          "execution_count": 25,
          "metadata": {},
          "output_type": "execute_result"
        }
      ],
      "source": [
        "# Dimensión de los embeddings de la secuencia en ingles\n",
        "embedding_matrix.shape"
      ]
    },
    {
      "cell_type": "markdown",
      "metadata": {
        "id": "3vKbhjtIwPgM"
      },
      "source": [
        "## 4. Entrenamiento del modelo\n",
        "Se etrena un modelo basado con esquema encoder-decoder utilizando los datos generados en los puntos anteriores."
      ]
    },
    {
      "cell_type": "code",
      "execution_count": null,
      "metadata": {
        "id": "ntSLxTaM2agu"
      },
      "outputs": [],
      "source": [
        "lstm_size = 128\n",
        "num_layers = 1\n",
        "\n",
        "class Encoder(nn.Module):\n",
        "    def __init__(self, vocab_size):\n",
        "        super().__init__()\n",
        "        # num_embeddings = vocab_size, definido por le Tokenizador\n",
        "        # embedding_dim = 50 --> dimensión de los embeddings utilizados\n",
        "        self.lstm_size = lstm_size\n",
        "        self.num_layers = num_layers\n",
        "        self.embedding_dim = embed_dim\n",
        "        self.embedding = nn.Embedding(num_embeddings=vocab_size, embedding_dim=self.embedding_dim, padding_idx=0)\n",
        "        self.embedding.weight.data.copy_(torch.from_numpy(embedding_matrix))\n",
        "        self.embedding.weight.requires_grad = False  # marcar como layer no entrenable (freeze)\n",
        "        self.lstm = nn.LSTM(input_size=self.embedding_dim, hidden_size=self.lstm_size, batch_first=True,\n",
        "                            num_layers=self.num_layers) # LSTM layer\n",
        "\n",
        "    def forward(self, x):\n",
        "        out = self.embedding(x)\n",
        "        lstm_output, (ht, ct) = self.lstm(out)\n",
        "        return (ht, ct)\n",
        "\n",
        "class Decoder(nn.Module):\n",
        "    def __init__(self, vocab_size, output_dim):\n",
        "        super().__init__()\n",
        "        # num_embeddings = vocab_size, definido por le Tokenizador\n",
        "        # embedding_dim = 50 --> dimensión de los embeddings utilizados\n",
        "        self.lstm_size = lstm_size\n",
        "        self.num_layers = num_layers\n",
        "        self.embedding_dim = embed_dim\n",
        "        self.output_dim = output_dim\n",
        "\n",
        "        self.embedding = nn.Embedding(num_embeddings=vocab_size, embedding_dim=self.embedding_dim, padding_idx=0)\n",
        "        self.lstm = nn.LSTM(input_size=self.embedding_dim, hidden_size=self.lstm_size, batch_first=True,\n",
        "                            num_layers=self.num_layers) # LSTM layer\n",
        "        self.fc1 = nn.Linear(in_features=self.lstm_size, out_features=self.output_dim) # Fully connected layer\n",
        "\n",
        "        self.softmax = nn.Softmax(dim=1) # normalize in dim 1\n",
        "\n",
        "    def forward(self, x, prev_state):\n",
        "        out = self.embedding(x)\n",
        "        lstm_output, (ht, ct) = self.lstm(out, prev_state)\n",
        "        out = self.softmax(self.fc1(lstm_output[:,-1,:])) # take last output (last seq)\n",
        "        return out, (ht, ct)\n",
        "\n",
        "class Seq2Seq(nn.Module):\n",
        "    def __init__(self, encoder, decoder):\n",
        "        super().__init__()\n",
        "\n",
        "        self.encoder = encoder\n",
        "        self.decoder = decoder\n",
        "\n",
        "        assert encoder.lstm_size == decoder.lstm_size, \\\n",
        "            \"Hidden dimensions of encoder and decoder must be equal!\"\n",
        "        assert encoder.num_layers == decoder.num_layers, \\\n",
        "            \"Encoder and decoder must have equal number of layers!\"\n",
        "\n",
        "    def forward(self, encoder_input, decoder_input):\n",
        "        batch_size = decoder_input.shape[0]\n",
        "        decoder_input_len = decoder_input.shape[1]\n",
        "        vocab_size = self.decoder.output_dim\n",
        "\n",
        "        # tensor para almacenar la salida\n",
        "        # (batch_size, sentence_len, one_hot_size)\n",
        "        outputs = torch.zeros(batch_size, decoder_input_len, vocab_size)\n",
        "\n",
        "        # ultimo hidden state del encoder, primer estado oculto del decoder\n",
        "        prev_state = self.encoder(encoder_input)\n",
        "\n",
        "        # En la primera iteracion se toma el primer token de target (<sos>)\n",
        "        input = decoder_input[:, 0:1]\n",
        "\n",
        "        for t in range(decoder_input_len):\n",
        "            # t --> token index\n",
        "\n",
        "            # utilizamos método \"teacher forcing\", es decir que durante\n",
        "            # el entrenamiento no realimentamos la salida del decoder\n",
        "            # sino el token correcto que sigue en target\n",
        "            input = decoder_input[:, t:t+1]\n",
        "\n",
        "            # ingresar cada token embedding, uno por uno junto al hidden state\n",
        "            # recibir el output del decoder (softmax)\n",
        "            output, prev_state = self.decoder(input, prev_state)\n",
        "            top1 = output.argmax(1).view(-1, 1)\n",
        "\n",
        "            # Sino se usará \"teacher forcing\" habría que descomentar\n",
        "            # esta linea.\n",
        "            # Hay ejemplos dandos vuelta en donde se utilza un random\n",
        "            # para ver en cada vuelta que técnica se aplica\n",
        "            #input = top1\n",
        "\n",
        "            # guardar cada salida (softmax)\n",
        "            outputs[:, t, :] = output\n",
        "\n",
        "        return outputs\n",
        "\n",
        "encoder = Encoder(vocab_size=nb_words)\n",
        "if cuda: encoder.cuda()\n",
        "# decoder --> vocab_size == output_dim --> porque recibe y devuelve palabras en el mismo vocabulario\n",
        "decoder = Decoder(vocab_size=num_words_output, output_dim=num_words_output)\n",
        "if cuda: decoder.cuda()\n",
        "\n",
        "model = Seq2Seq(encoder, decoder)\n",
        "if cuda: model.cuda()\n",
        "\n",
        "# Crear el optimizador la una función de error\n",
        "optimizer = torch.optim.Adam(model.parameters(), lr=0.01)\n",
        "criterion = torch.nn.CrossEntropyLoss()  # Para clasificación multi categórica"
      ]
    },
    {
      "cell_type": "code",
      "execution_count": null,
      "metadata": {
        "colab": {
          "base_uri": "https://localhost:8080/"
        },
        "id": "KgGsCI-iDHkI",
        "outputId": "f2d6f8dd-c30f-4377-fbc2-fbfffaa38203"
      },
      "outputs": [
        {
          "data": {
            "text/plain": [
              "==========================================================================================\n",
              "Layer (type:depth-idx)                   Output Shape              Param #\n",
              "==========================================================================================\n",
              "Seq2Seq                                  [1, 10, 1807]             --\n",
              "├─Encoder: 1-1                           [1, 1, 128]               --\n",
              "│    └─Embedding: 2-1                    [1, 9, 50]                (89,950)\n",
              "│    └─LSTM: 2-2                         [1, 9, 128]               92,160\n",
              "├─Decoder: 1-2                           [1, 1807]                 --\n",
              "│    └─Embedding: 2-3                    [1, 1, 50]                90,350\n",
              "│    └─LSTM: 2-4                         [1, 1, 128]               92,160\n",
              "│    └─Linear: 2-5                       [1, 1807]                 233,103\n",
              "│    └─Softmax: 2-6                      [1, 1807]                 --\n",
              "├─Decoder: 1-3                           [1, 1807]                 (recursive)\n",
              "│    └─Embedding: 2-7                    [1, 1, 50]                (recursive)\n",
              "│    └─LSTM: 2-8                         [1, 1, 128]               (recursive)\n",
              "│    └─Linear: 2-9                       [1, 1807]                 (recursive)\n",
              "│    └─Softmax: 2-10                     [1, 1807]                 --\n",
              "├─Decoder: 1-4                           [1, 1807]                 (recursive)\n",
              "│    └─Embedding: 2-11                   [1, 1, 50]                (recursive)\n",
              "│    └─LSTM: 2-12                        [1, 1, 128]               (recursive)\n",
              "│    └─Linear: 2-13                      [1, 1807]                 (recursive)\n",
              "│    └─Softmax: 2-14                     [1, 1807]                 --\n",
              "├─Decoder: 1-5                           [1, 1807]                 (recursive)\n",
              "│    └─Embedding: 2-15                   [1, 1, 50]                (recursive)\n",
              "│    └─LSTM: 2-16                        [1, 1, 128]               (recursive)\n",
              "│    └─Linear: 2-17                      [1, 1807]                 (recursive)\n",
              "│    └─Softmax: 2-18                     [1, 1807]                 --\n",
              "├─Decoder: 1-6                           [1, 1807]                 (recursive)\n",
              "│    └─Embedding: 2-19                   [1, 1, 50]                (recursive)\n",
              "│    └─LSTM: 2-20                        [1, 1, 128]               (recursive)\n",
              "│    └─Linear: 2-21                      [1, 1807]                 (recursive)\n",
              "│    └─Softmax: 2-22                     [1, 1807]                 --\n",
              "├─Decoder: 1-7                           [1, 1807]                 (recursive)\n",
              "│    └─Embedding: 2-23                   [1, 1, 50]                (recursive)\n",
              "│    └─LSTM: 2-24                        [1, 1, 128]               (recursive)\n",
              "│    └─Linear: 2-25                      [1, 1807]                 (recursive)\n",
              "│    └─Softmax: 2-26                     [1, 1807]                 --\n",
              "├─Decoder: 1-8                           [1, 1807]                 (recursive)\n",
              "│    └─Embedding: 2-27                   [1, 1, 50]                (recursive)\n",
              "│    └─LSTM: 2-28                        [1, 1, 128]               (recursive)\n",
              "│    └─Linear: 2-29                      [1, 1807]                 (recursive)\n",
              "│    └─Softmax: 2-30                     [1, 1807]                 --\n",
              "├─Decoder: 1-9                           [1, 1807]                 (recursive)\n",
              "│    └─Embedding: 2-31                   [1, 1, 50]                (recursive)\n",
              "│    └─LSTM: 2-32                        [1, 1, 128]               (recursive)\n",
              "│    └─Linear: 2-33                      [1, 1807]                 (recursive)\n",
              "│    └─Softmax: 2-34                     [1, 1807]                 --\n",
              "├─Decoder: 1-10                          [1, 1807]                 (recursive)\n",
              "│    └─Embedding: 2-35                   [1, 1, 50]                (recursive)\n",
              "│    └─LSTM: 2-36                        [1, 1, 128]               (recursive)\n",
              "│    └─Linear: 2-37                      [1, 1807]                 (recursive)\n",
              "│    └─Softmax: 2-38                     [1, 1807]                 --\n",
              "├─Decoder: 1-11                          [1, 1807]                 (recursive)\n",
              "│    └─Embedding: 2-39                   [1, 1, 50]                (recursive)\n",
              "│    └─LSTM: 2-40                        [1, 1, 128]               (recursive)\n",
              "│    └─Linear: 2-41                      [1, 1807]                 (recursive)\n",
              "│    └─Softmax: 2-42                     [1, 1807]                 --\n",
              "==========================================================================================\n",
              "Total params: 597,723\n",
              "Trainable params: 507,773\n",
              "Non-trainable params: 89,950\n",
              "Total mult-adds (Units.MEGABYTES): 5.08\n",
              "==========================================================================================\n",
              "Input size (MB): 0.00\n",
              "Forward/backward pass size (MB): 0.17\n",
              "Params size (MB): 2.39\n",
              "Estimated Total Size (MB): 2.56\n",
              "=========================================================================================="
            ]
          },
          "execution_count": 27,
          "metadata": {},
          "output_type": "execute_result"
        }
      ],
      "source": [
        "# Obtenemos la tupla para la primera muestra\n",
        "first_sample_data = data_set[0]\n",
        "\n",
        "# Extraemos las entradas del encoder y del decoder\n",
        "encoder_input_sample = first_sample_data[0]\n",
        "decoder_input_sample = first_sample_data[1]\n",
        "\n",
        "# Agregamos una dimensión de batch (summary usualmente espera un batch)\n",
        "# Usar .to(device) si tu modelo está en CUDA\n",
        "encoder_input_sample = encoder_input_sample.unsqueeze(0).to(device)\n",
        "decoder_input_sample = decoder_input_sample.unsqueeze(0).to(device)\n",
        "\n",
        "# Pasamos la tupla de entrada a summary\n",
        "summary(model, input_data=(encoder_input_sample, decoder_input_sample))"
      ]
    },
    {
      "cell_type": "code",
      "execution_count": null,
      "metadata": {
        "colab": {
          "base_uri": "https://localhost:8080/"
        },
        "id": "PiRBQezZ2agu",
        "outputId": "7b1fa4a7-8f4c-4668-cdec-24dbd3fb2b11"
      },
      "outputs": [
        {
          "name": "stdout",
          "output_type": "stream",
          "text": [
            "Epoch: 1/500 - Train loss 69.758 - Train accuracy 0.525 - Valid Loss 69.777 - Valid accuracy 0.523\n",
            "Epoch: 2/500 - Train loss 69.762 - Train accuracy 0.524 - Valid Loss 69.777 - Valid accuracy 0.523\n",
            "Epoch: 3/500 - Train loss 69.761 - Train accuracy 0.524 - Valid Loss 69.777 - Valid accuracy 0.523\n",
            "Epoch: 4/500 - Train loss 69.762 - Train accuracy 0.524 - Valid Loss 69.777 - Valid accuracy 0.523\n",
            "Epoch: 5/500 - Train loss 69.762 - Train accuracy 0.524 - Valid Loss 69.777 - Valid accuracy 0.523\n",
            "Epoch: 6/500 - Train loss 69.763 - Train accuracy 0.524 - Valid Loss 69.777 - Valid accuracy 0.523\n",
            "Epoch: 7/500 - Train loss 69.760 - Train accuracy 0.524 - Valid Loss 69.777 - Valid accuracy 0.523\n",
            "Epoch: 8/500 - Train loss 69.761 - Train accuracy 0.524 - Valid Loss 69.777 - Valid accuracy 0.523\n",
            "Epoch: 9/500 - Train loss 69.762 - Train accuracy 0.524 - Valid Loss 69.777 - Valid accuracy 0.523\n",
            "Epoch: 10/500 - Train loss 69.762 - Train accuracy 0.524 - Valid Loss 69.777 - Valid accuracy 0.523\n",
            "Epoch: 11/500 - Train loss 69.760 - Train accuracy 0.524 - Valid Loss 69.777 - Valid accuracy 0.523\n",
            "Epoch: 12/500 - Train loss 69.759 - Train accuracy 0.524 - Valid Loss 69.777 - Valid accuracy 0.523\n",
            "Epoch: 13/500 - Train loss 69.761 - Train accuracy 0.524 - Valid Loss 69.777 - Valid accuracy 0.523\n",
            "Epoch: 14/500 - Train loss 69.761 - Train accuracy 0.524 - Valid Loss 69.777 - Valid accuracy 0.523\n",
            "Epoch: 15/500 - Train loss 69.760 - Train accuracy 0.524 - Valid Loss 69.777 - Valid accuracy 0.523\n",
            "Epoch: 16/500 - Train loss 69.761 - Train accuracy 0.524 - Valid Loss 69.777 - Valid accuracy 0.523\n",
            "Epoch: 17/500 - Train loss 69.762 - Train accuracy 0.524 - Valid Loss 69.777 - Valid accuracy 0.523\n",
            "Epoch: 18/500 - Train loss 69.762 - Train accuracy 0.524 - Valid Loss 69.776 - Valid accuracy 0.523\n",
            "Epoch: 19/500 - Train loss 69.759 - Train accuracy 0.524 - Valid Loss 69.746 - Valid accuracy 0.526\n",
            "Epoch: 20/500 - Train loss 69.763 - Train accuracy 0.524 - Valid Loss 69.757 - Valid accuracy 0.526\n",
            "Epoch: 21/500 - Train loss 69.762 - Train accuracy 0.524 - Valid Loss 69.772 - Valid accuracy 0.523\n",
            "Epoch: 22/500 - Train loss 69.764 - Train accuracy 0.524 - Valid Loss 69.758 - Valid accuracy 0.526\n",
            "Epoch: 23/500 - Train loss 69.763 - Train accuracy 0.524 - Valid Loss 69.754 - Valid accuracy 0.526\n",
            "Epoch: 24/500 - Train loss 69.761 - Train accuracy 0.524 - Valid Loss 69.760 - Valid accuracy 0.526\n",
            "Epoch: 25/500 - Train loss 69.761 - Train accuracy 0.524 - Valid Loss 69.755 - Valid accuracy 0.526\n",
            "Epoch: 26/500 - Train loss 69.763 - Train accuracy 0.524 - Valid Loss 69.760 - Valid accuracy 0.526\n",
            "Epoch: 27/500 - Train loss 69.763 - Train accuracy 0.524 - Valid Loss 69.763 - Valid accuracy 0.523\n",
            "Epoch: 28/500 - Train loss 69.760 - Train accuracy 0.524 - Valid Loss 69.764 - Valid accuracy 0.523\n",
            "Epoch: 29/500 - Train loss 69.762 - Train accuracy 0.524 - Valid Loss 69.758 - Valid accuracy 0.523\n",
            "Epoch: 30/500 - Train loss 69.761 - Train accuracy 0.524 - Valid Loss 69.747 - Valid accuracy 0.526\n",
            "Epoch: 31/500 - Train loss 69.762 - Train accuracy 0.524 - Valid Loss 69.743 - Valid accuracy 0.527\n",
            "Epoch: 32/500 - Train loss 69.759 - Train accuracy 0.524 - Valid Loss 69.749 - Valid accuracy 0.526\n",
            "Epoch: 33/500 - Train loss 69.762 - Train accuracy 0.524 - Valid Loss 69.751 - Valid accuracy 0.527\n",
            "Epoch: 34/500 - Train loss 69.761 - Train accuracy 0.524 - Valid Loss 69.760 - Valid accuracy 0.523\n",
            "Epoch: 35/500 - Train loss 69.761 - Train accuracy 0.524 - Valid Loss 69.750 - Valid accuracy 0.526\n",
            "Epoch: 36/500 - Train loss 69.760 - Train accuracy 0.524 - Valid Loss 69.751 - Valid accuracy 0.526\n",
            "Epoch: 37/500 - Train loss 69.760 - Train accuracy 0.524 - Valid Loss 69.752 - Valid accuracy 0.526\n",
            "Epoch: 38/500 - Train loss 69.760 - Train accuracy 0.524 - Valid Loss 69.747 - Valid accuracy 0.526\n",
            "Epoch: 39/500 - Train loss 69.762 - Train accuracy 0.524 - Valid Loss 69.754 - Valid accuracy 0.526\n",
            "Epoch: 40/500 - Train loss 69.761 - Train accuracy 0.524 - Valid Loss 69.748 - Valid accuracy 0.526\n",
            "Epoch: 41/500 - Train loss 69.762 - Train accuracy 0.524 - Valid Loss 69.754 - Valid accuracy 0.526\n",
            "Epoch: 42/500 - Train loss 69.762 - Train accuracy 0.524 - Valid Loss 69.754 - Valid accuracy 0.526\n",
            "Epoch: 43/500 - Train loss 69.761 - Train accuracy 0.524 - Valid Loss 69.759 - Valid accuracy 0.523\n",
            "Epoch: 44/500 - Train loss 69.761 - Train accuracy 0.524 - Valid Loss 69.754 - Valid accuracy 0.526\n",
            "Epoch: 45/500 - Train loss 69.762 - Train accuracy 0.524 - Valid Loss 69.748 - Valid accuracy 0.526\n",
            "Epoch: 46/500 - Train loss 69.761 - Train accuracy 0.524 - Valid Loss 69.757 - Valid accuracy 0.526\n",
            "Epoch: 47/500 - Train loss 69.764 - Train accuracy 0.524 - Valid Loss 69.752 - Valid accuracy 0.526\n",
            "Epoch: 48/500 - Train loss 69.762 - Train accuracy 0.524 - Valid Loss 69.759 - Valid accuracy 0.523\n",
            "Epoch: 49/500 - Train loss 69.759 - Train accuracy 0.524 - Valid Loss 69.748 - Valid accuracy 0.526\n",
            "Epoch: 50/500 - Train loss 69.761 - Train accuracy 0.524 - Valid Loss 69.777 - Valid accuracy 0.523\n",
            "Epoch: 51/500 - Train loss 69.762 - Train accuracy 0.524 - Valid Loss 69.777 - Valid accuracy 0.523\n",
            "Epoch: 52/500 - Train loss 69.762 - Train accuracy 0.524 - Valid Loss 69.777 - Valid accuracy 0.523\n",
            "Epoch: 53/500 - Train loss 69.761 - Train accuracy 0.524 - Valid Loss 69.777 - Valid accuracy 0.523\n",
            "Epoch: 54/500 - Train loss 69.761 - Train accuracy 0.524 - Valid Loss 69.777 - Valid accuracy 0.523\n",
            "Epoch: 55/500 - Train loss 69.761 - Train accuracy 0.524 - Valid Loss 69.771 - Valid accuracy 0.523\n",
            "Epoch: 56/500 - Train loss 69.760 - Train accuracy 0.524 - Valid Loss 69.748 - Valid accuracy 0.526\n",
            "Epoch: 57/500 - Train loss 69.759 - Train accuracy 0.524 - Valid Loss 69.768 - Valid accuracy 0.523\n",
            "Epoch: 58/500 - Train loss 69.761 - Train accuracy 0.524 - Valid Loss 69.761 - Valid accuracy 0.526\n",
            "Epoch: 59/500 - Train loss 69.758 - Train accuracy 0.524 - Valid Loss 69.761 - Valid accuracy 0.523\n",
            "Epoch: 60/500 - Train loss 69.762 - Train accuracy 0.524 - Valid Loss 69.767 - Valid accuracy 0.523\n",
            "Epoch: 61/500 - Train loss 69.761 - Train accuracy 0.524 - Valid Loss 69.767 - Valid accuracy 0.523\n",
            "Epoch: 62/500 - Train loss 69.759 - Train accuracy 0.524 - Valid Loss 69.765 - Valid accuracy 0.523\n",
            "Epoch: 63/500 - Train loss 69.761 - Train accuracy 0.524 - Valid Loss 69.765 - Valid accuracy 0.523\n",
            "Epoch: 64/500 - Train loss 69.762 - Train accuracy 0.524 - Valid Loss 69.767 - Valid accuracy 0.523\n",
            "Epoch: 65/500 - Train loss 69.786 - Train accuracy 0.523 - Valid Loss 69.749 - Valid accuracy 0.526\n",
            "Epoch: 66/500 - Train loss 69.762 - Train accuracy 0.524 - Valid Loss 69.751 - Valid accuracy 0.526\n",
            "Epoch: 67/500 - Train loss 69.760 - Train accuracy 0.524 - Valid Loss 69.775 - Valid accuracy 0.523\n",
            "Epoch: 68/500 - Train loss 69.763 - Train accuracy 0.524 - Valid Loss 69.777 - Valid accuracy 0.523\n",
            "Epoch: 69/500 - Train loss 69.761 - Train accuracy 0.524 - Valid Loss 69.777 - Valid accuracy 0.523\n",
            "Epoch: 70/500 - Train loss 69.760 - Train accuracy 0.524 - Valid Loss 69.777 - Valid accuracy 0.523\n",
            "Epoch: 71/500 - Train loss 69.761 - Train accuracy 0.524 - Valid Loss 69.777 - Valid accuracy 0.523\n",
            "Epoch: 72/500 - Train loss 69.763 - Train accuracy 0.524 - Valid Loss 69.777 - Valid accuracy 0.523\n",
            "Epoch: 73/500 - Train loss 69.760 - Train accuracy 0.524 - Valid Loss 69.777 - Valid accuracy 0.523\n",
            "Epoch: 74/500 - Train loss 69.763 - Train accuracy 0.524 - Valid Loss 69.777 - Valid accuracy 0.523\n",
            "Epoch: 75/500 - Train loss 69.759 - Train accuracy 0.524 - Valid Loss 69.777 - Valid accuracy 0.523\n",
            "Epoch: 76/500 - Train loss 69.762 - Train accuracy 0.524 - Valid Loss 69.777 - Valid accuracy 0.523\n",
            "Epoch: 77/500 - Train loss 69.763 - Train accuracy 0.524 - Valid Loss 69.777 - Valid accuracy 0.523\n",
            "Epoch: 78/500 - Train loss 69.762 - Train accuracy 0.524 - Valid Loss 69.777 - Valid accuracy 0.523\n",
            "Epoch: 79/500 - Train loss 69.761 - Train accuracy 0.524 - Valid Loss 69.776 - Valid accuracy 0.523\n",
            "Epoch: 80/500 - Train loss 69.764 - Train accuracy 0.524 - Valid Loss 69.775 - Valid accuracy 0.523\n",
            "Epoch: 81/500 - Train loss 69.761 - Train accuracy 0.524 - Valid Loss 69.774 - Valid accuracy 0.523\n",
            "Epoch: 82/500 - Train loss 69.761 - Train accuracy 0.524 - Valid Loss 69.775 - Valid accuracy 0.523\n",
            "Epoch: 83/500 - Train loss 69.761 - Train accuracy 0.524 - Valid Loss 69.774 - Valid accuracy 0.523\n",
            "Epoch: 84/500 - Train loss 69.761 - Train accuracy 0.524 - Valid Loss 69.774 - Valid accuracy 0.523\n",
            "Epoch: 85/500 - Train loss 69.760 - Train accuracy 0.524 - Valid Loss 69.773 - Valid accuracy 0.523\n",
            "Epoch: 86/500 - Train loss 69.761 - Train accuracy 0.524 - Valid Loss 69.773 - Valid accuracy 0.523\n",
            "Epoch: 87/500 - Train loss 69.763 - Train accuracy 0.524 - Valid Loss 69.774 - Valid accuracy 0.523\n",
            "Epoch: 88/500 - Train loss 69.763 - Train accuracy 0.524 - Valid Loss 69.773 - Valid accuracy 0.523\n",
            "Epoch: 89/500 - Train loss 69.763 - Train accuracy 0.524 - Valid Loss 69.769 - Valid accuracy 0.523\n",
            "Epoch: 90/500 - Train loss 69.763 - Train accuracy 0.524 - Valid Loss 69.764 - Valid accuracy 0.523\n",
            "Epoch: 91/500 - Train loss 69.762 - Train accuracy 0.524 - Valid Loss 69.750 - Valid accuracy 0.527\n",
            "Epoch: 92/500 - Train loss 69.761 - Train accuracy 0.524 - Valid Loss 69.753 - Valid accuracy 0.526\n",
            "Epoch: 93/500 - Train loss 69.762 - Train accuracy 0.524 - Valid Loss 69.752 - Valid accuracy 0.526\n",
            "Epoch: 94/500 - Train loss 69.760 - Train accuracy 0.524 - Valid Loss 69.751 - Valid accuracy 0.526\n",
            "Epoch: 95/500 - Train loss 69.760 - Train accuracy 0.524 - Valid Loss 69.750 - Valid accuracy 0.527\n",
            "Epoch: 96/500 - Train loss 69.763 - Train accuracy 0.524 - Valid Loss 69.752 - Valid accuracy 0.527\n",
            "Epoch: 97/500 - Train loss 69.760 - Train accuracy 0.524 - Valid Loss 69.756 - Valid accuracy 0.526\n",
            "Epoch: 98/500 - Train loss 69.759 - Train accuracy 0.524 - Valid Loss 69.757 - Valid accuracy 0.526\n",
            "Epoch: 99/500 - Train loss 69.760 - Train accuracy 0.524 - Valid Loss 69.757 - Valid accuracy 0.526\n",
            "Epoch: 100/500 - Train loss 69.762 - Train accuracy 0.524 - Valid Loss 69.752 - Valid accuracy 0.527\n",
            "Epoch: 101/500 - Train loss 69.760 - Train accuracy 0.524 - Valid Loss 69.754 - Valid accuracy 0.526\n",
            "Epoch: 102/500 - Train loss 69.761 - Train accuracy 0.524 - Valid Loss 69.753 - Valid accuracy 0.527\n",
            "Epoch: 103/500 - Train loss 69.764 - Train accuracy 0.524 - Valid Loss 69.753 - Valid accuracy 0.527\n",
            "Epoch: 104/500 - Train loss 69.762 - Train accuracy 0.524 - Valid Loss 69.752 - Valid accuracy 0.527\n",
            "Epoch: 105/500 - Train loss 69.762 - Train accuracy 0.524 - Valid Loss 69.752 - Valid accuracy 0.527\n",
            "Epoch: 106/500 - Train loss 69.761 - Train accuracy 0.524 - Valid Loss 69.752 - Valid accuracy 0.527\n",
            "Epoch: 107/500 - Train loss 69.763 - Train accuracy 0.524 - Valid Loss 69.753 - Valid accuracy 0.526\n",
            "Epoch: 108/500 - Train loss 69.761 - Train accuracy 0.524 - Valid Loss 69.753 - Valid accuracy 0.527\n",
            "Epoch: 109/500 - Train loss 69.760 - Train accuracy 0.524 - Valid Loss 69.752 - Valid accuracy 0.527\n",
            "Epoch: 110/500 - Train loss 69.759 - Train accuracy 0.524 - Valid Loss 69.752 - Valid accuracy 0.527\n",
            "Epoch: 111/500 - Train loss 69.762 - Train accuracy 0.524 - Valid Loss 69.753 - Valid accuracy 0.527\n",
            "Epoch: 112/500 - Train loss 69.761 - Train accuracy 0.524 - Valid Loss 69.752 - Valid accuracy 0.527\n",
            "Epoch: 113/500 - Train loss 69.761 - Train accuracy 0.524 - Valid Loss 69.753 - Valid accuracy 0.526\n",
            "Epoch: 114/500 - Train loss 69.760 - Train accuracy 0.524 - Valid Loss 69.753 - Valid accuracy 0.527\n",
            "Epoch: 115/500 - Train loss 69.758 - Train accuracy 0.525 - Valid Loss 69.753 - Valid accuracy 0.526\n",
            "Epoch: 116/500 - Train loss 69.761 - Train accuracy 0.524 - Valid Loss 69.752 - Valid accuracy 0.527\n",
            "Epoch: 117/500 - Train loss 69.761 - Train accuracy 0.524 - Valid Loss 69.752 - Valid accuracy 0.527\n",
            "Epoch: 118/500 - Train loss 69.758 - Train accuracy 0.525 - Valid Loss 69.753 - Valid accuracy 0.527\n",
            "Epoch: 119/500 - Train loss 69.761 - Train accuracy 0.524 - Valid Loss 69.753 - Valid accuracy 0.527\n",
            "Epoch: 120/500 - Train loss 69.762 - Train accuracy 0.524 - Valid Loss 69.753 - Valid accuracy 0.527\n",
            "Epoch: 121/500 - Train loss 69.761 - Train accuracy 0.524 - Valid Loss 69.753 - Valid accuracy 0.527\n",
            "Epoch: 122/500 - Train loss 69.761 - Train accuracy 0.524 - Valid Loss 69.753 - Valid accuracy 0.527\n",
            "Epoch: 123/500 - Train loss 69.760 - Train accuracy 0.524 - Valid Loss 69.753 - Valid accuracy 0.527\n",
            "Epoch: 124/500 - Train loss 69.761 - Train accuracy 0.524 - Valid Loss 69.749 - Valid accuracy 0.527\n",
            "Epoch: 125/500 - Train loss 69.761 - Train accuracy 0.524 - Valid Loss 69.754 - Valid accuracy 0.527\n",
            "Epoch: 126/500 - Train loss 69.761 - Train accuracy 0.524 - Valid Loss 69.756 - Valid accuracy 0.526\n",
            "Epoch: 127/500 - Train loss 69.760 - Train accuracy 0.524 - Valid Loss 69.754 - Valid accuracy 0.527\n",
            "Epoch: 128/500 - Train loss 69.762 - Train accuracy 0.524 - Valid Loss 69.756 - Valid accuracy 0.526\n",
            "Epoch: 129/500 - Train loss 69.760 - Train accuracy 0.524 - Valid Loss 69.754 - Valid accuracy 0.527\n",
            "Epoch: 130/500 - Train loss 69.761 - Train accuracy 0.524 - Valid Loss 69.755 - Valid accuracy 0.526\n",
            "Epoch: 131/500 - Train loss 69.762 - Train accuracy 0.524 - Valid Loss 69.754 - Valid accuracy 0.527\n",
            "Epoch: 132/500 - Train loss 69.763 - Train accuracy 0.524 - Valid Loss 69.754 - Valid accuracy 0.526\n",
            "Epoch: 133/500 - Train loss 69.762 - Train accuracy 0.524 - Valid Loss 69.754 - Valid accuracy 0.527\n",
            "Epoch: 134/500 - Train loss 69.761 - Train accuracy 0.524 - Valid Loss 69.756 - Valid accuracy 0.526\n",
            "Epoch: 135/500 - Train loss 69.762 - Train accuracy 0.524 - Valid Loss 69.755 - Valid accuracy 0.527\n",
            "Epoch: 136/500 - Train loss 69.757 - Train accuracy 0.525 - Valid Loss 69.755 - Valid accuracy 0.527\n",
            "Epoch: 137/500 - Train loss 69.761 - Train accuracy 0.524 - Valid Loss 69.755 - Valid accuracy 0.527\n",
            "Epoch: 138/500 - Train loss 69.762 - Train accuracy 0.524 - Valid Loss 69.755 - Valid accuracy 0.527\n",
            "Epoch: 139/500 - Train loss 69.761 - Train accuracy 0.524 - Valid Loss 69.755 - Valid accuracy 0.527\n",
            "Epoch: 140/500 - Train loss 69.761 - Train accuracy 0.524 - Valid Loss 69.755 - Valid accuracy 0.527\n",
            "Epoch: 141/500 - Train loss 69.761 - Train accuracy 0.524 - Valid Loss 69.755 - Valid accuracy 0.527\n",
            "Epoch: 142/500 - Train loss 69.762 - Train accuracy 0.524 - Valid Loss 69.756 - Valid accuracy 0.527\n",
            "Epoch: 143/500 - Train loss 69.760 - Train accuracy 0.524 - Valid Loss 69.757 - Valid accuracy 0.523\n",
            "Epoch: 144/500 - Train loss 69.761 - Train accuracy 0.524 - Valid Loss 69.757 - Valid accuracy 0.523\n",
            "Epoch: 145/500 - Train loss 69.762 - Train accuracy 0.524 - Valid Loss 69.758 - Valid accuracy 0.523\n",
            "Epoch: 146/500 - Train loss 69.763 - Train accuracy 0.524 - Valid Loss 69.758 - Valid accuracy 0.523\n",
            "Epoch: 147/500 - Train loss 69.763 - Train accuracy 0.524 - Valid Loss 69.758 - Valid accuracy 0.523\n",
            "Epoch: 148/500 - Train loss 69.761 - Train accuracy 0.524 - Valid Loss 69.759 - Valid accuracy 0.523\n",
            "Epoch: 149/500 - Train loss 69.760 - Train accuracy 0.524 - Valid Loss 69.759 - Valid accuracy 0.523\n",
            "Epoch: 150/500 - Train loss 69.760 - Train accuracy 0.524 - Valid Loss 69.758 - Valid accuracy 0.523\n",
            "Epoch: 151/500 - Train loss 69.764 - Train accuracy 0.524 - Valid Loss 69.759 - Valid accuracy 0.523\n",
            "Epoch: 152/500 - Train loss 69.762 - Train accuracy 0.524 - Valid Loss 69.759 - Valid accuracy 0.523\n",
            "Epoch: 153/500 - Train loss 69.759 - Train accuracy 0.524 - Valid Loss 69.759 - Valid accuracy 0.523\n",
            "Epoch: 154/500 - Train loss 69.763 - Train accuracy 0.524 - Valid Loss 69.759 - Valid accuracy 0.523\n",
            "Epoch: 155/500 - Train loss 69.763 - Train accuracy 0.524 - Valid Loss 69.759 - Valid accuracy 0.523\n",
            "Epoch: 156/500 - Train loss 69.762 - Train accuracy 0.524 - Valid Loss 69.758 - Valid accuracy 0.523\n",
            "Epoch: 157/500 - Train loss 69.762 - Train accuracy 0.524 - Valid Loss 69.761 - Valid accuracy 0.523\n",
            "Epoch: 158/500 - Train loss 69.761 - Train accuracy 0.524 - Valid Loss 69.759 - Valid accuracy 0.523\n",
            "Epoch: 159/500 - Train loss 69.762 - Train accuracy 0.524 - Valid Loss 69.758 - Valid accuracy 0.523\n",
            "Epoch: 160/500 - Train loss 69.764 - Train accuracy 0.524 - Valid Loss 69.759 - Valid accuracy 0.523\n",
            "Epoch: 161/500 - Train loss 69.760 - Train accuracy 0.524 - Valid Loss 69.758 - Valid accuracy 0.523\n",
            "Epoch: 162/500 - Train loss 69.760 - Train accuracy 0.524 - Valid Loss 69.758 - Valid accuracy 0.523\n",
            "Epoch: 163/500 - Train loss 69.762 - Train accuracy 0.524 - Valid Loss 69.758 - Valid accuracy 0.523\n",
            "Epoch: 164/500 - Train loss 69.760 - Train accuracy 0.524 - Valid Loss 69.758 - Valid accuracy 0.523\n",
            "Epoch: 165/500 - Train loss 69.759 - Train accuracy 0.524 - Valid Loss 69.759 - Valid accuracy 0.523\n",
            "Epoch: 166/500 - Train loss 69.763 - Train accuracy 0.524 - Valid Loss 69.758 - Valid accuracy 0.523\n",
            "Epoch: 167/500 - Train loss 69.761 - Train accuracy 0.524 - Valid Loss 69.760 - Valid accuracy 0.523\n",
            "Epoch: 168/500 - Train loss 69.762 - Train accuracy 0.524 - Valid Loss 69.757 - Valid accuracy 0.523\n",
            "Epoch: 169/500 - Train loss 69.759 - Train accuracy 0.524 - Valid Loss 69.757 - Valid accuracy 0.523\n",
            "Epoch: 170/500 - Train loss 69.760 - Train accuracy 0.524 - Valid Loss 69.757 - Valid accuracy 0.523\n",
            "Epoch: 171/500 - Train loss 69.765 - Train accuracy 0.524 - Valid Loss 69.758 - Valid accuracy 0.523\n",
            "Epoch: 172/500 - Train loss 69.762 - Train accuracy 0.524 - Valid Loss 69.757 - Valid accuracy 0.523\n",
            "Epoch: 173/500 - Train loss 69.763 - Train accuracy 0.524 - Valid Loss 69.760 - Valid accuracy 0.523\n",
            "Epoch: 174/500 - Train loss 69.762 - Train accuracy 0.524 - Valid Loss 69.757 - Valid accuracy 0.527\n",
            "Epoch: 175/500 - Train loss 69.763 - Train accuracy 0.524 - Valid Loss 69.755 - Valid accuracy 0.527\n",
            "Epoch: 176/500 - Train loss 69.754 - Train accuracy 0.525 - Valid Loss 69.735 - Valid accuracy 0.527\n",
            "Epoch: 177/500 - Train loss 69.744 - Train accuracy 0.526 - Valid Loss 69.738 - Valid accuracy 0.527\n",
            "Epoch: 178/500 - Train loss 69.746 - Train accuracy 0.526 - Valid Loss 69.739 - Valid accuracy 0.527\n",
            "Epoch: 179/500 - Train loss 69.742 - Train accuracy 0.526 - Valid Loss 69.764 - Valid accuracy 0.523\n",
            "Epoch: 180/500 - Train loss 69.742 - Train accuracy 0.526 - Valid Loss 69.750 - Valid accuracy 0.527\n",
            "Epoch: 181/500 - Train loss 69.744 - Train accuracy 0.526 - Valid Loss 69.765 - Valid accuracy 0.523\n",
            "Epoch: 182/500 - Train loss 69.740 - Train accuracy 0.526 - Valid Loss 69.748 - Valid accuracy 0.527\n",
            "Epoch: 183/500 - Train loss 69.741 - Train accuracy 0.526 - Valid Loss 69.769 - Valid accuracy 0.523\n",
            "Epoch: 184/500 - Train loss 69.581 - Train accuracy 0.543 - Valid Loss 69.488 - Valid accuracy 0.552\n",
            "Epoch: 185/500 - Train loss 69.325 - Train accuracy 0.568 - Valid Loss 69.340 - Valid accuracy 0.566\n",
            "Epoch: 186/500 - Train loss 68.940 - Train accuracy 0.607 - Valid Loss 68.469 - Valid accuracy 0.655\n",
            "Epoch: 187/500 - Train loss 68.298 - Train accuracy 0.671 - Valid Loss 68.332 - Valid accuracy 0.668\n",
            "Epoch: 188/500 - Train loss 68.238 - Train accuracy 0.677 - Valid Loss 68.342 - Valid accuracy 0.666\n",
            "Epoch: 189/500 - Train loss 68.161 - Train accuracy 0.685 - Valid Loss 68.253 - Valid accuracy 0.676\n",
            "Epoch: 190/500 - Train loss 68.091 - Train accuracy 0.692 - Valid Loss 68.273 - Valid accuracy 0.675\n",
            "Epoch: 191/500 - Train loss 68.077 - Train accuracy 0.693 - Valid Loss 68.277 - Valid accuracy 0.673\n",
            "Epoch: 192/500 - Train loss 68.066 - Train accuracy 0.694 - Valid Loss 68.282 - Valid accuracy 0.673\n",
            "Epoch: 193/500 - Train loss 68.063 - Train accuracy 0.694 - Valid Loss 68.277 - Valid accuracy 0.673\n",
            "Epoch: 194/500 - Train loss 68.050 - Train accuracy 0.696 - Valid Loss 68.281 - Valid accuracy 0.673\n",
            "Epoch: 195/500 - Train loss 68.044 - Train accuracy 0.696 - Valid Loss 68.278 - Valid accuracy 0.673\n",
            "Epoch: 196/500 - Train loss 68.040 - Train accuracy 0.697 - Valid Loss 68.281 - Valid accuracy 0.672\n",
            "Epoch: 197/500 - Train loss 68.037 - Train accuracy 0.697 - Valid Loss 68.280 - Valid accuracy 0.672\n",
            "Epoch: 198/500 - Train loss 68.040 - Train accuracy 0.697 - Valid Loss 68.284 - Valid accuracy 0.672\n",
            "Epoch: 199/500 - Train loss 68.033 - Train accuracy 0.697 - Valid Loss 68.281 - Valid accuracy 0.672\n",
            "Epoch: 200/500 - Train loss 68.030 - Train accuracy 0.698 - Valid Loss 68.287 - Valid accuracy 0.671\n",
            "Epoch: 201/500 - Train loss 68.028 - Train accuracy 0.698 - Valid Loss 68.297 - Valid accuracy 0.670\n",
            "Epoch: 202/500 - Train loss 68.027 - Train accuracy 0.698 - Valid Loss 68.295 - Valid accuracy 0.670\n",
            "Epoch: 203/500 - Train loss 68.025 - Train accuracy 0.698 - Valid Loss 68.299 - Valid accuracy 0.670\n",
            "Epoch: 204/500 - Train loss 68.023 - Train accuracy 0.698 - Valid Loss 68.300 - Valid accuracy 0.670\n",
            "Epoch: 205/500 - Train loss 68.022 - Train accuracy 0.698 - Valid Loss 68.296 - Valid accuracy 0.671\n",
            "Epoch: 206/500 - Train loss 68.019 - Train accuracy 0.699 - Valid Loss 68.295 - Valid accuracy 0.671\n",
            "Epoch: 207/500 - Train loss 68.019 - Train accuracy 0.699 - Valid Loss 68.285 - Valid accuracy 0.671\n",
            "Epoch: 208/500 - Train loss 68.007 - Train accuracy 0.700 - Valid Loss 68.280 - Valid accuracy 0.673\n",
            "Epoch: 209/500 - Train loss 68.008 - Train accuracy 0.700 - Valid Loss 68.283 - Valid accuracy 0.672\n",
            "Epoch: 210/500 - Train loss 68.007 - Train accuracy 0.700 - Valid Loss 68.278 - Valid accuracy 0.673\n",
            "Epoch: 211/500 - Train loss 68.009 - Train accuracy 0.700 - Valid Loss 68.277 - Valid accuracy 0.673\n",
            "Epoch: 212/500 - Train loss 68.003 - Train accuracy 0.700 - Valid Loss 68.267 - Valid accuracy 0.674\n",
            "Epoch: 213/500 - Train loss 68.005 - Train accuracy 0.700 - Valid Loss 68.281 - Valid accuracy 0.673\n",
            "Epoch: 214/500 - Train loss 67.980 - Train accuracy 0.703 - Valid Loss 68.236 - Valid accuracy 0.676\n",
            "Epoch: 215/500 - Train loss 67.970 - Train accuracy 0.704 - Valid Loss 68.225 - Valid accuracy 0.678\n",
            "Epoch: 216/500 - Train loss 67.971 - Train accuracy 0.703 - Valid Loss 68.224 - Valid accuracy 0.678\n",
            "Epoch: 217/500 - Train loss 67.969 - Train accuracy 0.704 - Valid Loss 68.220 - Valid accuracy 0.678\n",
            "Epoch: 218/500 - Train loss 67.968 - Train accuracy 0.704 - Valid Loss 68.220 - Valid accuracy 0.678\n",
            "Epoch: 219/500 - Train loss 67.968 - Train accuracy 0.704 - Valid Loss 68.213 - Valid accuracy 0.680\n",
            "Epoch: 220/500 - Train loss 67.966 - Train accuracy 0.704 - Valid Loss 68.218 - Valid accuracy 0.679\n",
            "Epoch: 221/500 - Train loss 67.964 - Train accuracy 0.704 - Valid Loss 68.207 - Valid accuracy 0.680\n",
            "Epoch: 222/500 - Train loss 67.962 - Train accuracy 0.704 - Valid Loss 68.214 - Valid accuracy 0.678\n",
            "Epoch: 223/500 - Train loss 67.961 - Train accuracy 0.705 - Valid Loss 68.210 - Valid accuracy 0.679\n",
            "Epoch: 224/500 - Train loss 67.961 - Train accuracy 0.704 - Valid Loss 68.208 - Valid accuracy 0.680\n",
            "Epoch: 225/500 - Train loss 67.963 - Train accuracy 0.704 - Valid Loss 68.208 - Valid accuracy 0.680\n",
            "Epoch: 226/500 - Train loss 67.960 - Train accuracy 0.705 - Valid Loss 68.208 - Valid accuracy 0.680\n",
            "Epoch: 227/500 - Train loss 67.959 - Train accuracy 0.705 - Valid Loss 68.205 - Valid accuracy 0.680\n",
            "Epoch: 228/500 - Train loss 67.959 - Train accuracy 0.705 - Valid Loss 68.208 - Valid accuracy 0.680\n",
            "Epoch: 229/500 - Train loss 67.954 - Train accuracy 0.705 - Valid Loss 68.171 - Valid accuracy 0.684\n",
            "Epoch: 230/500 - Train loss 67.895 - Train accuracy 0.711 - Valid Loss 68.157 - Valid accuracy 0.684\n",
            "Epoch: 231/500 - Train loss 67.890 - Train accuracy 0.712 - Valid Loss 68.150 - Valid accuracy 0.685\n",
            "Epoch: 232/500 - Train loss 67.830 - Train accuracy 0.718 - Valid Loss 68.069 - Valid accuracy 0.694\n",
            "Epoch: 233/500 - Train loss 67.801 - Train accuracy 0.720 - Valid Loss 68.062 - Valid accuracy 0.695\n",
            "Epoch: 234/500 - Train loss 67.795 - Train accuracy 0.721 - Valid Loss 68.065 - Valid accuracy 0.694\n",
            "Epoch: 235/500 - Train loss 67.791 - Train accuracy 0.722 - Valid Loss 68.074 - Valid accuracy 0.693\n",
            "Epoch: 236/500 - Train loss 67.789 - Train accuracy 0.722 - Valid Loss 68.081 - Valid accuracy 0.692\n",
            "Epoch: 237/500 - Train loss 67.790 - Train accuracy 0.722 - Valid Loss 68.095 - Valid accuracy 0.692\n",
            "Epoch: 238/500 - Train loss 67.786 - Train accuracy 0.722 - Valid Loss 68.089 - Valid accuracy 0.691\n",
            "Epoch: 239/500 - Train loss 67.784 - Train accuracy 0.722 - Valid Loss 68.084 - Valid accuracy 0.693\n",
            "Epoch: 240/500 - Train loss 67.774 - Train accuracy 0.723 - Valid Loss 68.068 - Valid accuracy 0.694\n",
            "Epoch: 241/500 - Train loss 67.759 - Train accuracy 0.725 - Valid Loss 68.035 - Valid accuracy 0.697\n",
            "Epoch: 242/500 - Train loss 67.751 - Train accuracy 0.726 - Valid Loss 68.033 - Valid accuracy 0.698\n",
            "Epoch: 243/500 - Train loss 67.737 - Train accuracy 0.727 - Valid Loss 67.956 - Valid accuracy 0.705\n",
            "Epoch: 244/500 - Train loss 67.665 - Train accuracy 0.734 - Valid Loss 67.956 - Valid accuracy 0.705\n",
            "Epoch: 245/500 - Train loss 67.663 - Train accuracy 0.734 - Valid Loss 67.953 - Valid accuracy 0.707\n",
            "Epoch: 246/500 - Train loss 67.659 - Train accuracy 0.735 - Valid Loss 67.958 - Valid accuracy 0.705\n",
            "Epoch: 247/500 - Train loss 67.659 - Train accuracy 0.735 - Valid Loss 67.967 - Valid accuracy 0.705\n",
            "Epoch: 248/500 - Train loss 67.656 - Train accuracy 0.735 - Valid Loss 67.967 - Valid accuracy 0.705\n",
            "Epoch: 249/500 - Train loss 67.653 - Train accuracy 0.735 - Valid Loss 67.963 - Valid accuracy 0.705\n",
            "Epoch: 250/500 - Train loss 67.650 - Train accuracy 0.736 - Valid Loss 67.960 - Valid accuracy 0.704\n",
            "Epoch: 251/500 - Train loss 67.650 - Train accuracy 0.736 - Valid Loss 67.962 - Valid accuracy 0.705\n",
            "Epoch: 252/500 - Train loss 67.648 - Train accuracy 0.736 - Valid Loss 67.964 - Valid accuracy 0.703\n",
            "Epoch: 253/500 - Train loss 67.648 - Train accuracy 0.736 - Valid Loss 67.963 - Valid accuracy 0.703\n",
            "Epoch: 254/500 - Train loss 67.646 - Train accuracy 0.736 - Valid Loss 67.960 - Valid accuracy 0.705\n",
            "Epoch: 255/500 - Train loss 67.646 - Train accuracy 0.736 - Valid Loss 67.960 - Valid accuracy 0.704\n",
            "Epoch: 256/500 - Train loss 67.644 - Train accuracy 0.736 - Valid Loss 67.956 - Valid accuracy 0.705\n",
            "Epoch: 257/500 - Train loss 67.641 - Train accuracy 0.736 - Valid Loss 67.957 - Valid accuracy 0.705\n",
            "Epoch: 258/500 - Train loss 67.641 - Train accuracy 0.736 - Valid Loss 67.965 - Valid accuracy 0.704\n",
            "Epoch: 259/500 - Train loss 67.639 - Train accuracy 0.737 - Valid Loss 67.955 - Valid accuracy 0.705\n",
            "Epoch: 260/500 - Train loss 67.638 - Train accuracy 0.737 - Valid Loss 67.954 - Valid accuracy 0.706\n",
            "Epoch: 261/500 - Train loss 67.639 - Train accuracy 0.737 - Valid Loss 67.965 - Valid accuracy 0.704\n",
            "Epoch: 262/500 - Train loss 67.635 - Train accuracy 0.737 - Valid Loss 67.960 - Valid accuracy 0.705\n",
            "Epoch: 263/500 - Train loss 67.633 - Train accuracy 0.737 - Valid Loss 67.967 - Valid accuracy 0.703\n",
            "Epoch: 264/500 - Train loss 67.632 - Train accuracy 0.737 - Valid Loss 67.960 - Valid accuracy 0.704\n",
            "Epoch: 265/500 - Train loss 67.635 - Train accuracy 0.737 - Valid Loss 67.954 - Valid accuracy 0.705\n",
            "Epoch: 266/500 - Train loss 67.632 - Train accuracy 0.737 - Valid Loss 67.947 - Valid accuracy 0.706\n",
            "Epoch: 267/500 - Train loss 67.632 - Train accuracy 0.737 - Valid Loss 67.962 - Valid accuracy 0.703\n",
            "Epoch: 268/500 - Train loss 67.633 - Train accuracy 0.737 - Valid Loss 67.950 - Valid accuracy 0.705\n",
            "Epoch: 269/500 - Train loss 67.631 - Train accuracy 0.737 - Valid Loss 67.940 - Valid accuracy 0.705\n",
            "Epoch: 270/500 - Train loss 67.628 - Train accuracy 0.738 - Valid Loss 67.922 - Valid accuracy 0.708\n",
            "Epoch: 271/500 - Train loss 67.621 - Train accuracy 0.738 - Valid Loss 67.933 - Valid accuracy 0.707\n",
            "Epoch: 272/500 - Train loss 67.615 - Train accuracy 0.739 - Valid Loss 67.922 - Valid accuracy 0.709\n",
            "Epoch: 273/500 - Train loss 67.609 - Train accuracy 0.740 - Valid Loss 67.926 - Valid accuracy 0.709\n",
            "Epoch: 274/500 - Train loss 67.610 - Train accuracy 0.740 - Valid Loss 67.936 - Valid accuracy 0.708\n",
            "Epoch: 275/500 - Train loss 67.609 - Train accuracy 0.740 - Valid Loss 67.924 - Valid accuracy 0.708\n",
            "Epoch: 276/500 - Train loss 67.607 - Train accuracy 0.740 - Valid Loss 67.928 - Valid accuracy 0.708\n",
            "Epoch: 277/500 - Train loss 67.606 - Train accuracy 0.740 - Valid Loss 67.924 - Valid accuracy 0.709\n",
            "Epoch: 278/500 - Train loss 67.602 - Train accuracy 0.740 - Valid Loss 67.917 - Valid accuracy 0.709\n",
            "Epoch: 279/500 - Train loss 67.602 - Train accuracy 0.740 - Valid Loss 67.922 - Valid accuracy 0.709\n",
            "Epoch: 280/500 - Train loss 67.603 - Train accuracy 0.740 - Valid Loss 67.918 - Valid accuracy 0.709\n",
            "Epoch: 281/500 - Train loss 67.599 - Train accuracy 0.741 - Valid Loss 67.935 - Valid accuracy 0.708\n",
            "Epoch: 282/500 - Train loss 67.596 - Train accuracy 0.741 - Valid Loss 67.930 - Valid accuracy 0.709\n",
            "Epoch: 283/500 - Train loss 67.597 - Train accuracy 0.741 - Valid Loss 67.934 - Valid accuracy 0.709\n",
            "Epoch: 284/500 - Train loss 67.597 - Train accuracy 0.741 - Valid Loss 67.935 - Valid accuracy 0.707\n",
            "Epoch: 285/500 - Train loss 67.597 - Train accuracy 0.741 - Valid Loss 67.933 - Valid accuracy 0.707\n",
            "Epoch: 286/500 - Train loss 67.595 - Train accuracy 0.741 - Valid Loss 67.929 - Valid accuracy 0.708\n",
            "Epoch: 287/500 - Train loss 67.594 - Train accuracy 0.741 - Valid Loss 67.930 - Valid accuracy 0.709\n",
            "Epoch: 288/500 - Train loss 67.592 - Train accuracy 0.741 - Valid Loss 67.912 - Valid accuracy 0.709\n",
            "Epoch: 289/500 - Train loss 67.590 - Train accuracy 0.741 - Valid Loss 67.922 - Valid accuracy 0.709\n",
            "Epoch: 290/500 - Train loss 67.591 - Train accuracy 0.741 - Valid Loss 67.914 - Valid accuracy 0.709\n",
            "Epoch: 291/500 - Train loss 67.588 - Train accuracy 0.742 - Valid Loss 67.904 - Valid accuracy 0.712\n",
            "Epoch: 292/500 - Train loss 67.590 - Train accuracy 0.742 - Valid Loss 67.918 - Valid accuracy 0.709\n",
            "Epoch: 293/500 - Train loss 67.584 - Train accuracy 0.742 - Valid Loss 67.896 - Valid accuracy 0.711\n",
            "Epoch: 294/500 - Train loss 67.580 - Train accuracy 0.742 - Valid Loss 67.903 - Valid accuracy 0.709\n",
            "Epoch: 295/500 - Train loss 67.576 - Train accuracy 0.743 - Valid Loss 67.894 - Valid accuracy 0.711\n",
            "Epoch: 296/500 - Train loss 67.578 - Train accuracy 0.743 - Valid Loss 67.900 - Valid accuracy 0.710\n",
            "Epoch: 297/500 - Train loss 67.577 - Train accuracy 0.743 - Valid Loss 67.900 - Valid accuracy 0.710\n",
            "Epoch: 298/500 - Train loss 67.578 - Train accuracy 0.743 - Valid Loss 67.898 - Valid accuracy 0.711\n",
            "Epoch: 299/500 - Train loss 67.576 - Train accuracy 0.743 - Valid Loss 67.881 - Valid accuracy 0.713\n",
            "Epoch: 300/500 - Train loss 67.575 - Train accuracy 0.743 - Valid Loss 67.888 - Valid accuracy 0.712\n",
            "Epoch: 301/500 - Train loss 67.573 - Train accuracy 0.743 - Valid Loss 67.870 - Valid accuracy 0.715\n",
            "Epoch: 302/500 - Train loss 67.570 - Train accuracy 0.743 - Valid Loss 67.871 - Valid accuracy 0.713\n",
            "Epoch: 303/500 - Train loss 67.572 - Train accuracy 0.743 - Valid Loss 67.873 - Valid accuracy 0.713\n",
            "Epoch: 304/500 - Train loss 67.569 - Train accuracy 0.744 - Valid Loss 67.882 - Valid accuracy 0.712\n",
            "Epoch: 305/500 - Train loss 67.568 - Train accuracy 0.744 - Valid Loss 67.884 - Valid accuracy 0.713\n",
            "Epoch: 306/500 - Train loss 67.565 - Train accuracy 0.744 - Valid Loss 67.893 - Valid accuracy 0.713\n",
            "Epoch: 307/500 - Train loss 67.564 - Train accuracy 0.744 - Valid Loss 67.888 - Valid accuracy 0.711\n",
            "Epoch: 308/500 - Train loss 67.563 - Train accuracy 0.744 - Valid Loss 67.898 - Valid accuracy 0.711\n",
            "Epoch: 309/500 - Train loss 67.560 - Train accuracy 0.744 - Valid Loss 67.894 - Valid accuracy 0.712\n",
            "Epoch: 310/500 - Train loss 67.560 - Train accuracy 0.745 - Valid Loss 67.895 - Valid accuracy 0.712\n",
            "Epoch: 311/500 - Train loss 67.560 - Train accuracy 0.745 - Valid Loss 67.899 - Valid accuracy 0.711\n",
            "Epoch: 312/500 - Train loss 67.559 - Train accuracy 0.745 - Valid Loss 67.900 - Valid accuracy 0.711\n",
            "Epoch: 313/500 - Train loss 67.557 - Train accuracy 0.745 - Valid Loss 67.876 - Valid accuracy 0.715\n",
            "Epoch: 314/500 - Train loss 67.556 - Train accuracy 0.745 - Valid Loss 67.908 - Valid accuracy 0.709\n",
            "Epoch: 315/500 - Train loss 67.554 - Train accuracy 0.745 - Valid Loss 67.895 - Valid accuracy 0.711\n",
            "Epoch: 316/500 - Train loss 67.550 - Train accuracy 0.746 - Valid Loss 67.883 - Valid accuracy 0.713\n",
            "Epoch: 317/500 - Train loss 67.547 - Train accuracy 0.746 - Valid Loss 67.890 - Valid accuracy 0.712\n",
            "Epoch: 318/500 - Train loss 67.546 - Train accuracy 0.746 - Valid Loss 67.903 - Valid accuracy 0.709\n",
            "Epoch: 319/500 - Train loss 67.546 - Train accuracy 0.746 - Valid Loss 67.891 - Valid accuracy 0.713\n",
            "Epoch: 320/500 - Train loss 67.544 - Train accuracy 0.746 - Valid Loss 67.880 - Valid accuracy 0.713\n",
            "Epoch: 321/500 - Train loss 67.545 - Train accuracy 0.746 - Valid Loss 67.886 - Valid accuracy 0.712\n",
            "Epoch: 322/500 - Train loss 67.538 - Train accuracy 0.747 - Valid Loss 67.887 - Valid accuracy 0.712\n",
            "Epoch: 323/500 - Train loss 67.537 - Train accuracy 0.747 - Valid Loss 67.867 - Valid accuracy 0.715\n",
            "Epoch: 324/500 - Train loss 67.534 - Train accuracy 0.747 - Valid Loss 67.887 - Valid accuracy 0.713\n",
            "Epoch: 325/500 - Train loss 67.534 - Train accuracy 0.747 - Valid Loss 67.885 - Valid accuracy 0.712\n",
            "Epoch: 326/500 - Train loss 67.517 - Train accuracy 0.749 - Valid Loss 67.810 - Valid accuracy 0.719\n",
            "Epoch: 327/500 - Train loss 67.494 - Train accuracy 0.751 - Valid Loss 67.808 - Valid accuracy 0.721\n",
            "Epoch: 328/500 - Train loss 67.488 - Train accuracy 0.752 - Valid Loss 67.845 - Valid accuracy 0.716\n",
            "Epoch: 329/500 - Train loss 67.487 - Train accuracy 0.752 - Valid Loss 67.829 - Valid accuracy 0.718\n",
            "Epoch: 330/500 - Train loss 67.484 - Train accuracy 0.752 - Valid Loss 67.790 - Valid accuracy 0.723\n",
            "Epoch: 331/500 - Train loss 67.487 - Train accuracy 0.752 - Valid Loss 67.798 - Valid accuracy 0.721\n",
            "Epoch: 332/500 - Train loss 67.481 - Train accuracy 0.752 - Valid Loss 67.797 - Valid accuracy 0.720\n",
            "Epoch: 333/500 - Train loss 67.481 - Train accuracy 0.753 - Valid Loss 67.821 - Valid accuracy 0.720\n",
            "Epoch: 334/500 - Train loss 67.477 - Train accuracy 0.753 - Valid Loss 67.820 - Valid accuracy 0.719\n",
            "Epoch: 335/500 - Train loss 67.475 - Train accuracy 0.753 - Valid Loss 67.816 - Valid accuracy 0.719\n",
            "Epoch: 336/500 - Train loss 67.474 - Train accuracy 0.753 - Valid Loss 67.806 - Valid accuracy 0.720\n",
            "Epoch: 337/500 - Train loss 67.473 - Train accuracy 0.753 - Valid Loss 67.816 - Valid accuracy 0.720\n",
            "Epoch: 338/500 - Train loss 67.472 - Train accuracy 0.753 - Valid Loss 67.844 - Valid accuracy 0.715\n",
            "Epoch: 339/500 - Train loss 67.473 - Train accuracy 0.753 - Valid Loss 67.857 - Valid accuracy 0.715\n",
            "Epoch: 340/500 - Train loss 67.473 - Train accuracy 0.753 - Valid Loss 67.825 - Valid accuracy 0.719\n",
            "Epoch: 341/500 - Train loss 67.470 - Train accuracy 0.754 - Valid Loss 67.807 - Valid accuracy 0.720\n",
            "Epoch: 342/500 - Train loss 67.470 - Train accuracy 0.754 - Valid Loss 67.818 - Valid accuracy 0.719\n",
            "Epoch: 343/500 - Train loss 67.468 - Train accuracy 0.754 - Valid Loss 67.830 - Valid accuracy 0.716\n",
            "Epoch: 344/500 - Train loss 67.468 - Train accuracy 0.754 - Valid Loss 67.822 - Valid accuracy 0.719\n",
            "Epoch: 345/500 - Train loss 67.467 - Train accuracy 0.754 - Valid Loss 67.824 - Valid accuracy 0.718\n",
            "Epoch: 346/500 - Train loss 67.463 - Train accuracy 0.754 - Valid Loss 67.807 - Valid accuracy 0.720\n",
            "Epoch: 347/500 - Train loss 67.465 - Train accuracy 0.754 - Valid Loss 67.821 - Valid accuracy 0.717\n",
            "Epoch: 348/500 - Train loss 67.466 - Train accuracy 0.754 - Valid Loss 67.814 - Valid accuracy 0.721\n",
            "Epoch: 349/500 - Train loss 67.463 - Train accuracy 0.754 - Valid Loss 67.800 - Valid accuracy 0.720\n",
            "Epoch: 350/500 - Train loss 67.462 - Train accuracy 0.754 - Valid Loss 67.820 - Valid accuracy 0.718\n",
            "Epoch: 351/500 - Train loss 67.453 - Train accuracy 0.755 - Valid Loss 67.801 - Valid accuracy 0.720\n",
            "Epoch: 352/500 - Train loss 67.451 - Train accuracy 0.755 - Valid Loss 67.794 - Valid accuracy 0.722\n",
            "Epoch: 353/500 - Train loss 67.447 - Train accuracy 0.756 - Valid Loss 67.813 - Valid accuracy 0.719\n",
            "Epoch: 354/500 - Train loss 67.449 - Train accuracy 0.756 - Valid Loss 67.812 - Valid accuracy 0.720\n",
            "Epoch: 355/500 - Train loss 67.449 - Train accuracy 0.756 - Valid Loss 67.795 - Valid accuracy 0.721\n",
            "Epoch: 356/500 - Train loss 67.445 - Train accuracy 0.756 - Valid Loss 67.779 - Valid accuracy 0.723\n",
            "Epoch: 357/500 - Train loss 67.443 - Train accuracy 0.756 - Valid Loss 67.796 - Valid accuracy 0.721\n",
            "Epoch: 358/500 - Train loss 67.443 - Train accuracy 0.756 - Valid Loss 67.788 - Valid accuracy 0.722\n",
            "Epoch: 359/500 - Train loss 67.439 - Train accuracy 0.757 - Valid Loss 67.792 - Valid accuracy 0.721\n",
            "Epoch: 360/500 - Train loss 67.436 - Train accuracy 0.757 - Valid Loss 67.788 - Valid accuracy 0.722\n",
            "Epoch: 361/500 - Train loss 67.439 - Train accuracy 0.757 - Valid Loss 67.797 - Valid accuracy 0.721\n",
            "Epoch: 362/500 - Train loss 67.437 - Train accuracy 0.757 - Valid Loss 67.789 - Valid accuracy 0.723\n",
            "Epoch: 363/500 - Train loss 67.436 - Train accuracy 0.757 - Valid Loss 67.792 - Valid accuracy 0.722\n",
            "Epoch: 364/500 - Train loss 67.435 - Train accuracy 0.757 - Valid Loss 67.800 - Valid accuracy 0.720\n",
            "Epoch: 365/500 - Train loss 67.432 - Train accuracy 0.757 - Valid Loss 67.784 - Valid accuracy 0.723\n",
            "Epoch: 366/500 - Train loss 67.436 - Train accuracy 0.757 - Valid Loss 67.780 - Valid accuracy 0.723\n",
            "Epoch: 367/500 - Train loss 67.433 - Train accuracy 0.757 - Valid Loss 67.785 - Valid accuracy 0.722\n",
            "Epoch: 368/500 - Train loss 67.435 - Train accuracy 0.757 - Valid Loss 67.801 - Valid accuracy 0.722\n",
            "Epoch: 369/500 - Train loss 67.431 - Train accuracy 0.757 - Valid Loss 67.785 - Valid accuracy 0.722\n",
            "Epoch: 370/500 - Train loss 67.431 - Train accuracy 0.757 - Valid Loss 67.793 - Valid accuracy 0.722\n",
            "Epoch: 371/500 - Train loss 67.432 - Train accuracy 0.757 - Valid Loss 67.802 - Valid accuracy 0.720\n",
            "Epoch: 372/500 - Train loss 67.431 - Train accuracy 0.757 - Valid Loss 67.775 - Valid accuracy 0.723\n",
            "Epoch: 373/500 - Train loss 67.432 - Train accuracy 0.757 - Valid Loss 67.778 - Valid accuracy 0.723\n",
            "Epoch: 374/500 - Train loss 67.423 - Train accuracy 0.758 - Valid Loss 67.732 - Valid accuracy 0.728\n",
            "Epoch: 375/500 - Train loss 67.405 - Train accuracy 0.760 - Valid Loss 67.712 - Valid accuracy 0.728\n",
            "Epoch: 376/500 - Train loss 67.401 - Train accuracy 0.761 - Valid Loss 67.757 - Valid accuracy 0.725\n",
            "Epoch: 377/500 - Train loss 67.398 - Train accuracy 0.761 - Valid Loss 67.697 - Valid accuracy 0.731\n",
            "Epoch: 378/500 - Train loss 67.397 - Train accuracy 0.761 - Valid Loss 67.689 - Valid accuracy 0.731\n",
            "Epoch: 379/500 - Train loss 67.398 - Train accuracy 0.761 - Valid Loss 67.699 - Valid accuracy 0.730\n",
            "Epoch: 380/500 - Train loss 67.395 - Train accuracy 0.761 - Valid Loss 67.715 - Valid accuracy 0.728\n",
            "Epoch: 381/500 - Train loss 67.390 - Train accuracy 0.762 - Valid Loss 67.716 - Valid accuracy 0.730\n",
            "Epoch: 382/500 - Train loss 67.390 - Train accuracy 0.762 - Valid Loss 67.739 - Valid accuracy 0.727\n",
            "Epoch: 383/500 - Train loss 67.383 - Train accuracy 0.762 - Valid Loss 67.734 - Valid accuracy 0.728\n",
            "Epoch: 384/500 - Train loss 67.384 - Train accuracy 0.762 - Valid Loss 67.715 - Valid accuracy 0.729\n",
            "Epoch: 385/500 - Train loss 67.381 - Train accuracy 0.763 - Valid Loss 67.723 - Valid accuracy 0.729\n",
            "Epoch: 386/500 - Train loss 67.376 - Train accuracy 0.763 - Valid Loss 67.732 - Valid accuracy 0.727\n",
            "Epoch: 387/500 - Train loss 67.376 - Train accuracy 0.763 - Valid Loss 67.725 - Valid accuracy 0.727\n",
            "Epoch: 388/500 - Train loss 67.374 - Train accuracy 0.763 - Valid Loss 67.725 - Valid accuracy 0.727\n",
            "Epoch: 389/500 - Train loss 67.370 - Train accuracy 0.764 - Valid Loss 67.748 - Valid accuracy 0.727\n",
            "Epoch: 390/500 - Train loss 67.368 - Train accuracy 0.764 - Valid Loss 67.756 - Valid accuracy 0.725\n",
            "Epoch: 391/500 - Train loss 67.365 - Train accuracy 0.764 - Valid Loss 67.738 - Valid accuracy 0.727\n",
            "Epoch: 392/500 - Train loss 67.366 - Train accuracy 0.764 - Valid Loss 67.731 - Valid accuracy 0.727\n",
            "Epoch: 393/500 - Train loss 67.362 - Train accuracy 0.764 - Valid Loss 67.726 - Valid accuracy 0.728\n",
            "Epoch: 394/500 - Train loss 67.363 - Train accuracy 0.764 - Valid Loss 67.745 - Valid accuracy 0.726\n",
            "Epoch: 395/500 - Train loss 67.360 - Train accuracy 0.765 - Valid Loss 67.753 - Valid accuracy 0.724\n",
            "Epoch: 396/500 - Train loss 67.359 - Train accuracy 0.765 - Valid Loss 67.748 - Valid accuracy 0.727\n",
            "Epoch: 397/500 - Train loss 67.359 - Train accuracy 0.764 - Valid Loss 67.743 - Valid accuracy 0.727\n",
            "Epoch: 398/500 - Train loss 67.357 - Train accuracy 0.765 - Valid Loss 67.745 - Valid accuracy 0.725\n",
            "Epoch: 399/500 - Train loss 67.357 - Train accuracy 0.765 - Valid Loss 67.738 - Valid accuracy 0.728\n",
            "Epoch: 400/500 - Train loss 67.355 - Train accuracy 0.765 - Valid Loss 67.743 - Valid accuracy 0.727\n",
            "Epoch: 401/500 - Train loss 67.355 - Train accuracy 0.765 - Valid Loss 67.733 - Valid accuracy 0.728\n",
            "Epoch: 402/500 - Train loss 67.354 - Train accuracy 0.765 - Valid Loss 67.737 - Valid accuracy 0.728\n",
            "Epoch: 403/500 - Train loss 67.354 - Train accuracy 0.765 - Valid Loss 67.740 - Valid accuracy 0.727\n",
            "Epoch: 404/500 - Train loss 67.354 - Train accuracy 0.765 - Valid Loss 67.780 - Valid accuracy 0.721\n",
            "Epoch: 405/500 - Train loss 67.352 - Train accuracy 0.765 - Valid Loss 67.765 - Valid accuracy 0.723\n",
            "Epoch: 406/500 - Train loss 67.353 - Train accuracy 0.765 - Valid Loss 67.759 - Valid accuracy 0.724\n",
            "Epoch: 407/500 - Train loss 67.352 - Train accuracy 0.765 - Valid Loss 67.764 - Valid accuracy 0.723\n",
            "Epoch: 408/500 - Train loss 67.351 - Train accuracy 0.765 - Valid Loss 67.744 - Valid accuracy 0.726\n",
            "Epoch: 409/500 - Train loss 67.350 - Train accuracy 0.766 - Valid Loss 67.757 - Valid accuracy 0.727\n",
            "Epoch: 410/500 - Train loss 67.348 - Train accuracy 0.766 - Valid Loss 67.752 - Valid accuracy 0.726\n",
            "Epoch: 411/500 - Train loss 67.350 - Train accuracy 0.766 - Valid Loss 67.751 - Valid accuracy 0.725\n",
            "Epoch: 412/500 - Train loss 67.350 - Train accuracy 0.766 - Valid Loss 67.757 - Valid accuracy 0.726\n",
            "Epoch: 413/500 - Train loss 67.349 - Train accuracy 0.766 - Valid Loss 67.746 - Valid accuracy 0.727\n",
            "Epoch: 414/500 - Train loss 67.348 - Train accuracy 0.766 - Valid Loss 67.749 - Valid accuracy 0.726\n",
            "Epoch: 415/500 - Train loss 67.350 - Train accuracy 0.766 - Valid Loss 67.742 - Valid accuracy 0.727\n",
            "Epoch: 416/500 - Train loss 67.349 - Train accuracy 0.766 - Valid Loss 67.737 - Valid accuracy 0.728\n",
            "Epoch: 417/500 - Train loss 67.352 - Train accuracy 0.765 - Valid Loss 67.717 - Valid accuracy 0.730\n",
            "Epoch: 418/500 - Train loss 67.350 - Train accuracy 0.766 - Valid Loss 67.745 - Valid accuracy 0.727\n",
            "Epoch: 419/500 - Train loss 67.351 - Train accuracy 0.765 - Valid Loss 67.740 - Valid accuracy 0.726\n",
            "Epoch: 420/500 - Train loss 67.349 - Train accuracy 0.766 - Valid Loss 67.752 - Valid accuracy 0.725\n",
            "Epoch: 421/500 - Train loss 67.350 - Train accuracy 0.766 - Valid Loss 67.705 - Valid accuracy 0.730\n",
            "Epoch: 422/500 - Train loss 67.349 - Train accuracy 0.766 - Valid Loss 67.742 - Valid accuracy 0.726\n",
            "Epoch: 423/500 - Train loss 67.353 - Train accuracy 0.765 - Valid Loss 67.759 - Valid accuracy 0.724\n",
            "Epoch: 424/500 - Train loss 67.355 - Train accuracy 0.765 - Valid Loss 67.720 - Valid accuracy 0.730\n",
            "Epoch: 425/500 - Train loss 67.351 - Train accuracy 0.766 - Valid Loss 67.710 - Valid accuracy 0.730\n",
            "Epoch: 426/500 - Train loss 67.354 - Train accuracy 0.766 - Valid Loss 67.744 - Valid accuracy 0.727\n",
            "Epoch: 427/500 - Train loss 67.352 - Train accuracy 0.766 - Valid Loss 67.693 - Valid accuracy 0.733\n",
            "Epoch: 428/500 - Train loss 67.348 - Train accuracy 0.766 - Valid Loss 67.694 - Valid accuracy 0.732\n",
            "Epoch: 429/500 - Train loss 67.341 - Train accuracy 0.767 - Valid Loss 67.719 - Valid accuracy 0.730\n",
            "Epoch: 430/500 - Train loss 67.339 - Train accuracy 0.767 - Valid Loss 67.734 - Valid accuracy 0.728\n",
            "Epoch: 431/500 - Train loss 67.334 - Train accuracy 0.767 - Valid Loss 67.687 - Valid accuracy 0.734\n",
            "Epoch: 432/500 - Train loss 67.335 - Train accuracy 0.767 - Valid Loss 67.737 - Valid accuracy 0.727\n",
            "Epoch: 433/500 - Train loss 67.331 - Train accuracy 0.767 - Valid Loss 67.719 - Valid accuracy 0.728\n",
            "Epoch: 434/500 - Train loss 67.329 - Train accuracy 0.768 - Valid Loss 67.717 - Valid accuracy 0.729\n",
            "Epoch: 435/500 - Train loss 67.330 - Train accuracy 0.768 - Valid Loss 67.715 - Valid accuracy 0.728\n",
            "Epoch: 436/500 - Train loss 67.330 - Train accuracy 0.768 - Valid Loss 67.703 - Valid accuracy 0.731\n",
            "Epoch: 437/500 - Train loss 67.331 - Train accuracy 0.767 - Valid Loss 67.730 - Valid accuracy 0.729\n",
            "Epoch: 438/500 - Train loss 67.329 - Train accuracy 0.768 - Valid Loss 67.712 - Valid accuracy 0.730\n",
            "Epoch: 439/500 - Train loss 67.328 - Train accuracy 0.768 - Valid Loss 67.734 - Valid accuracy 0.727\n",
            "Epoch: 440/500 - Train loss 67.324 - Train accuracy 0.768 - Valid Loss 67.753 - Valid accuracy 0.723\n",
            "Epoch: 441/500 - Train loss 67.319 - Train accuracy 0.769 - Valid Loss 67.716 - Valid accuracy 0.730\n",
            "Epoch: 442/500 - Train loss 67.320 - Train accuracy 0.769 - Valid Loss 67.709 - Valid accuracy 0.730\n",
            "Epoch: 443/500 - Train loss 67.320 - Train accuracy 0.769 - Valid Loss 67.725 - Valid accuracy 0.730\n",
            "Epoch: 444/500 - Train loss 67.319 - Train accuracy 0.769 - Valid Loss 67.729 - Valid accuracy 0.729\n",
            "Epoch: 445/500 - Train loss 67.317 - Train accuracy 0.769 - Valid Loss 67.749 - Valid accuracy 0.725\n",
            "Epoch: 446/500 - Train loss 67.317 - Train accuracy 0.769 - Valid Loss 67.731 - Valid accuracy 0.726\n",
            "Epoch: 447/500 - Train loss 67.317 - Train accuracy 0.769 - Valid Loss 67.745 - Valid accuracy 0.725\n",
            "Epoch: 448/500 - Train loss 67.316 - Train accuracy 0.769 - Valid Loss 67.715 - Valid accuracy 0.729\n",
            "Epoch: 449/500 - Train loss 67.313 - Train accuracy 0.769 - Valid Loss 67.711 - Valid accuracy 0.731\n",
            "Epoch: 450/500 - Train loss 67.310 - Train accuracy 0.770 - Valid Loss 67.737 - Valid accuracy 0.725\n",
            "Epoch: 451/500 - Train loss 67.309 - Train accuracy 0.770 - Valid Loss 67.736 - Valid accuracy 0.727\n",
            "Epoch: 452/500 - Train loss 67.308 - Train accuracy 0.770 - Valid Loss 67.714 - Valid accuracy 0.730\n",
            "Epoch: 453/500 - Train loss 67.307 - Train accuracy 0.770 - Valid Loss 67.669 - Valid accuracy 0.735\n",
            "Epoch: 454/500 - Train loss 67.308 - Train accuracy 0.770 - Valid Loss 67.696 - Valid accuracy 0.733\n",
            "Epoch: 455/500 - Train loss 67.307 - Train accuracy 0.770 - Valid Loss 67.697 - Valid accuracy 0.731\n",
            "Epoch: 456/500 - Train loss 67.308 - Train accuracy 0.770 - Valid Loss 67.693 - Valid accuracy 0.732\n",
            "Epoch: 457/500 - Train loss 67.304 - Train accuracy 0.770 - Valid Loss 67.719 - Valid accuracy 0.729\n",
            "Epoch: 458/500 - Train loss 67.303 - Train accuracy 0.770 - Valid Loss 67.683 - Valid accuracy 0.734\n",
            "Epoch: 459/500 - Train loss 67.304 - Train accuracy 0.770 - Valid Loss 67.689 - Valid accuracy 0.734\n",
            "Epoch: 460/500 - Train loss 67.301 - Train accuracy 0.770 - Valid Loss 67.697 - Valid accuracy 0.732\n",
            "Epoch: 461/500 - Train loss 67.301 - Train accuracy 0.770 - Valid Loss 67.713 - Valid accuracy 0.731\n",
            "Epoch: 462/500 - Train loss 67.301 - Train accuracy 0.770 - Valid Loss 67.696 - Valid accuracy 0.732\n",
            "Epoch: 463/500 - Train loss 67.300 - Train accuracy 0.771 - Valid Loss 67.709 - Valid accuracy 0.730\n",
            "Epoch: 464/500 - Train loss 67.298 - Train accuracy 0.771 - Valid Loss 67.705 - Valid accuracy 0.730\n",
            "Epoch: 465/500 - Train loss 67.297 - Train accuracy 0.771 - Valid Loss 67.708 - Valid accuracy 0.730\n",
            "Epoch: 466/500 - Train loss 67.296 - Train accuracy 0.771 - Valid Loss 67.712 - Valid accuracy 0.730\n",
            "Epoch: 467/500 - Train loss 67.298 - Train accuracy 0.771 - Valid Loss 67.703 - Valid accuracy 0.731\n",
            "Epoch: 468/500 - Train loss 67.296 - Train accuracy 0.771 - Valid Loss 67.715 - Valid accuracy 0.730\n",
            "Epoch: 469/500 - Train loss 67.296 - Train accuracy 0.771 - Valid Loss 67.702 - Valid accuracy 0.731\n",
            "Epoch: 470/500 - Train loss 67.294 - Train accuracy 0.771 - Valid Loss 67.691 - Valid accuracy 0.732\n",
            "Epoch: 471/500 - Train loss 67.296 - Train accuracy 0.771 - Valid Loss 67.697 - Valid accuracy 0.732\n",
            "Epoch: 472/500 - Train loss 67.294 - Train accuracy 0.771 - Valid Loss 67.703 - Valid accuracy 0.732\n",
            "Epoch: 473/500 - Train loss 67.293 - Train accuracy 0.771 - Valid Loss 67.695 - Valid accuracy 0.731\n",
            "Epoch: 474/500 - Train loss 67.293 - Train accuracy 0.771 - Valid Loss 67.711 - Valid accuracy 0.730\n",
            "Epoch: 475/500 - Train loss 67.294 - Train accuracy 0.771 - Valid Loss 67.707 - Valid accuracy 0.731\n",
            "Epoch: 476/500 - Train loss 67.292 - Train accuracy 0.771 - Valid Loss 67.699 - Valid accuracy 0.732\n",
            "Epoch: 477/500 - Train loss 67.293 - Train accuracy 0.771 - Valid Loss 67.707 - Valid accuracy 0.730\n",
            "Epoch: 478/500 - Train loss 67.293 - Train accuracy 0.771 - Valid Loss 67.703 - Valid accuracy 0.730\n",
            "Epoch: 479/500 - Train loss 67.293 - Train accuracy 0.771 - Valid Loss 67.712 - Valid accuracy 0.730\n",
            "Epoch: 480/500 - Train loss 67.296 - Train accuracy 0.771 - Valid Loss 67.708 - Valid accuracy 0.730\n",
            "Epoch: 481/500 - Train loss 67.300 - Train accuracy 0.771 - Valid Loss 67.693 - Valid accuracy 0.732\n",
            "Epoch: 482/500 - Train loss 67.309 - Train accuracy 0.770 - Valid Loss 67.666 - Valid accuracy 0.734\n",
            "Epoch: 483/500 - Train loss 67.312 - Train accuracy 0.770 - Valid Loss 67.690 - Valid accuracy 0.733\n",
            "Epoch: 484/500 - Train loss 67.315 - Train accuracy 0.769 - Valid Loss 67.758 - Valid accuracy 0.725\n",
            "Epoch: 485/500 - Train loss 67.313 - Train accuracy 0.770 - Valid Loss 67.717 - Valid accuracy 0.728\n",
            "Epoch: 486/500 - Train loss 67.316 - Train accuracy 0.769 - Valid Loss 67.726 - Valid accuracy 0.729\n",
            "Epoch: 487/500 - Train loss 67.313 - Train accuracy 0.769 - Valid Loss 67.709 - Valid accuracy 0.730\n",
            "Epoch: 488/500 - Train loss 67.310 - Train accuracy 0.770 - Valid Loss 67.752 - Valid accuracy 0.723\n",
            "Epoch: 489/500 - Train loss 67.306 - Train accuracy 0.770 - Valid Loss 67.740 - Valid accuracy 0.726\n",
            "Epoch: 490/500 - Train loss 67.305 - Train accuracy 0.770 - Valid Loss 67.695 - Valid accuracy 0.732\n",
            "Epoch: 491/500 - Train loss 67.300 - Train accuracy 0.771 - Valid Loss 67.710 - Valid accuracy 0.730\n",
            "Epoch: 492/500 - Train loss 67.296 - Train accuracy 0.771 - Valid Loss 67.698 - Valid accuracy 0.731\n",
            "Epoch: 493/500 - Train loss 67.289 - Train accuracy 0.772 - Valid Loss 67.695 - Valid accuracy 0.730\n",
            "Epoch: 494/500 - Train loss 67.290 - Train accuracy 0.772 - Valid Loss 67.675 - Valid accuracy 0.734\n",
            "Epoch: 495/500 - Train loss 67.288 - Train accuracy 0.772 - Valid Loss 67.670 - Valid accuracy 0.735\n",
            "Epoch: 496/500 - Train loss 67.284 - Train accuracy 0.772 - Valid Loss 67.669 - Valid accuracy 0.734\n",
            "Epoch: 497/500 - Train loss 67.285 - Train accuracy 0.772 - Valid Loss 67.699 - Valid accuracy 0.730\n",
            "Epoch: 498/500 - Train loss 67.278 - Train accuracy 0.773 - Valid Loss 67.710 - Valid accuracy 0.728\n",
            "Epoch: 499/500 - Train loss 67.272 - Train accuracy 0.773 - Valid Loss 67.714 - Valid accuracy 0.729\n",
            "Epoch: 500/500 - Train loss 67.273 - Train accuracy 0.773 - Valid Loss 67.691 - Valid accuracy 0.732\n"
          ]
        }
      ],
      "source": [
        "# Se entrena el modelo por 500 epochs\n",
        "history1 = train(model,\n",
        "                train_loader,\n",
        "                valid_loader,\n",
        "                optimizer,\n",
        "                criterion,\n",
        "                epochs=500\n",
        "                )"
      ]
    },
    {
      "cell_type": "markdown",
      "metadata": {},
      "source": [
        "Visualizamos la curva de entrenamiento"
      ]
    },
    {
      "cell_type": "code",
      "execution_count": null,
      "metadata": {
        "colab": {
          "base_uri": "https://localhost:8080/",
          "height": 430
        },
        "id": "1r0u-4VI2agu",
        "outputId": "a2e4a5c9-698a-4a50-a289-f3032b851c8a"
      },
      "outputs": [
        {
          "data": {
            "image/png": "[encoded data removed]",
            "text/plain": [
              "<Figure size 640x480 with 1 Axes>"
            ]
          },
          "metadata": {},
          "output_type": "display_data"
        }
      ],
      "source": [
        "import seaborn as sns\n",
        "import matplotlib.pyplot as plt\n",
        "epoch_count = range(1, len(history1['accuracy']) + 1)\n",
        "sns.lineplot(x=epoch_count,  y=history1['accuracy'], label='train')\n",
        "sns.lineplot(x=epoch_count,  y=history1['val_accuracy'], label='valid')\n",
        "plt.show()"
      ]
    },
    {
      "cell_type": "markdown",
      "metadata": {},
      "source": [
        "No me queda del todo claro por qué tiene unas curvas tan extrañas. Se puede ver que hasta la epoch ~200 no comienza realmente a mejorar.\n",
        "\n",
        "Esto fue comprobado en múltiples reentrenamientos con distintos hiperparámetros."
      ]
    },
    {
      "cell_type": "markdown",
      "metadata": {
        "id": "3LS4auqBHVDr"
      },
      "source": [
        "### Guardado de resultados"
      ]
    },
    {
      "cell_type": "code",
      "execution_count": null,
      "metadata": {
        "colab": {
          "base_uri": "https://localhost:8080/"
        },
        "id": "2KoEALodGwYS",
        "outputId": "6abda0e9-3b2a-44e5-b53d-2ff8d8bd7393"
      },
      "outputs": [
        {
          "name": "stdout",
          "output_type": "stream",
          "text": [
            "✅ Pesos del modelo guardados en model_weights.pth\n"
          ]
        }
      ],
      "source": [
        "# Definimos una ruta para guardar los pesos\n",
        "filepath = 'model_weights.pth'\n",
        "\n",
        "# Guardamos el diccionario de estados\n",
        "torch.save(model.state_dict(), filepath)\n",
        "\n",
        "print(f\"✅ Pesos del modelo guardados en {filepath}\")"
      ]
    },
    {
      "cell_type": "code",
      "execution_count": null,
      "metadata": {
        "colab": {
          "base_uri": "https://localhost:8080/"
        },
        "id": "uO8l7mT4HH5D",
        "outputId": "3552fd68-9b16-4ad0-a2e1-9b19ce34ab3f"
      },
      "outputs": [
        {
          "name": "stdout",
          "output_type": "stream",
          "text": [
            "✅ Historial de entrenamiento guardado en training_history.csv\n"
          ]
        }
      ],
      "source": [
        "# Definimos la ruta para guardar el historial en un archivo CSV\n",
        "history_filepath = 'training_history.csv'\n",
        "\n",
        "# Creamos un DataFrame de pandas\n",
        "df_history = pd.DataFrame(history1)\n",
        "\n",
        "# Guardamos el DataFrame en un archivo CSV\n",
        "df_history.to_csv(history_filepath, index=False)\n",
        "\n",
        "print(f\"✅ Historial de entrenamiento guardado en {history_filepath}\")"
      ]
    },
    {
      "cell_type": "markdown",
      "metadata": {
        "id": "Zbwn0ekDy_s2"
      },
      "source": [
        "## 5. Inferencia\n",
        "Se experimenta el funcionamiento del modelo. Se realiza la inferencia de los modelos por separado de encoder y decoder."
      ]
    },
    {
      "cell_type": "code",
      "execution_count": null,
      "metadata": {
        "colab": {
          "base_uri": "https://localhost:8080/"
        },
        "id": "Z4PV_ZRdy76H",
        "outputId": "d1239ef9-3a0a-4259-d8dc-1e61ac54dc10"
      },
      "outputs": [
        {
          "name": "stdout",
          "output_type": "stream",
          "text": [
            "✅ Pesos del modelo cargados desde model_weights.pth\n"
          ]
        }
      ],
      "source": [
        "# Cargamos los pesos del modelo guardados\n",
        "model_weights_path = 'model_weights.pth'\n",
        "model.load_state_dict(torch.load(model_weights_path))\n",
        "\n",
        "print(f\"✅ Pesos del modelo cargados desde {model_weights_path}\")"
      ]
    },
    {
      "cell_type": "code",
      "execution_count": 49,
      "metadata": {
        "colab": {
          "base_uri": "https://localhost:8080/",
          "height": 87
        },
        "id": "Tr0TK6522agu",
        "outputId": "80f65210-7566-4c24-de52-aeeae35341fb"
      },
      "outputs": [
        {
          "data": {
            "application/vnd.google.colaboratory.intrinsic+json": {
              "type": "string"
            },
            "text/plain": [
              "'\\nStep 1:\\nA deal is a deal -> Encoder -> enc(h1,c1)\\n\\nenc(h1,c1) + <sos> -> Decoder -> Un + dec(h1,c1)\\n\\nstep 2:\\ndec(h1,c1) + Un -> Decoder -> trato + dec(h2,c2)\\n\\nstep 3:\\ndec(h2,c2) + trato -> Decoder -> es + dec(h3,c3)\\n\\nstep 4:\\ndec(h3,c3) + es -> Decoder -> un + dec(h4,c4)\\n\\nstep 5:\\ndec(h4,c4) + un -> Decoder -> trato + dec(h5,c5)\\n\\nstep 6:\\ndec(h5,c5) + trato. -> Decoder -> <eos> + dec(h6,c6)\\n'"
            ]
          },
          "execution_count": 49,
          "metadata": {},
          "output_type": "execute_result"
        }
      ],
      "source": [
        "'''\n",
        "Step 1:\n",
        "A deal is a deal -> Encoder -> enc(h1,c1)\n",
        "\n",
        "enc(h1,c1) + <sos> -> Decoder -> Un + dec(h1,c1)\n",
        "\n",
        "step 2:\n",
        "dec(h1,c1) + Un -> Decoder -> trato + dec(h2,c2)\n",
        "\n",
        "step 3:\n",
        "dec(h2,c2) + trato -> Decoder -> es + dec(h3,c3)\n",
        "\n",
        "step 4:\n",
        "dec(h3,c3) + es -> Decoder -> un + dec(h4,c4)\n",
        "\n",
        "step 5:\n",
        "dec(h4,c4) + un -> Decoder -> trato + dec(h5,c5)\n",
        "\n",
        "step 6:\n",
        "dec(h5,c5) + trato. -> Decoder -> <eos> + dec(h6,c6)\n",
        "'''"
      ]
    },
    {
      "cell_type": "code",
      "execution_count": null,
      "metadata": {
        "id": "PnS51WFF2agu"
      },
      "outputs": [],
      "source": [
        "# Armamos lo conversores de indice a palabra:\n",
        "idx2word_input = {v:k for k, v in word2idx_inputs.items()}\n",
        "idx2word_target = {v:k for k, v in word2idx_outputs.items()}"
      ]
    },
    {
      "cell_type": "code",
      "execution_count": 32,
      "metadata": {
        "id": "OUEdMsga2agv"
      },
      "outputs": [],
      "source": [
        "def translate_sentence(input_seq):\n",
        "    # Se transforma la sequencia de entrada a los stados \"h\" y \"c\" de la LSTM\n",
        "    # para enviar la primera vez al decoder\"\n",
        "    prev_state = model.encoder(encoder_sequence_test_tensor.to(device))\n",
        "\n",
        "    # Se inicializa la secuencia de entrada al decoder como \"<sos>\"\n",
        "    target_seq = np.zeros((1, 1))\n",
        "    target_seq[0, 0] = word2idx_outputs['<sos>']\n",
        "    target_seq_tensor = torch.from_numpy(target_seq.astype(np.int32))\n",
        "\n",
        "    # Se obtiene el indice que finaliza la inferencia\n",
        "    eos = word2idx_outputs['<eos>']\n",
        "\n",
        "    output_sentence = []\n",
        "    for _ in range(max_out_len):\n",
        "        # Predicción del próximo elemento\n",
        "        output, new_prev_state = model.decoder(target_seq_tensor.to(device), prev_state)\n",
        "        top1 = output.argmax(1).view(-1, 1)\n",
        "        idx = int(top1.cpu())\n",
        "\n",
        "        # Si es \"end of sentece <eos>\" se acaba\n",
        "        if eos == idx:\n",
        "            break\n",
        "\n",
        "        # Transformar ídx a palabra\n",
        "        word = ''\n",
        "        if idx > 0:\n",
        "            word = idx2word_target[idx]\n",
        "            output_sentence.append(word)\n",
        "\n",
        "        # Actualizar los estados dado la ultimo prediccion\n",
        "        prev_state = new_prev_state\n",
        "\n",
        "        # Actualizar secuencia de entrada con la salida (re-alimentacion)\n",
        "        target_seq_tensor = top1\n",
        "\n",
        "    return ' '.join(output_sentence)"
      ]
    },
    {
      "cell_type": "markdown",
      "metadata": {
        "id": "6LrxZnms0GLu"
      },
      "source": [
        "### Test 1"
      ]
    },
    {
      "cell_type": "code",
      "execution_count": 38,
      "metadata": {
        "colab": {
          "base_uri": "https://localhost:8080/"
        },
        "id": "RHbAli6b2agv",
        "outputId": "99a481fe-7055-4831-ee8e-85684ecfe7fc"
      },
      "outputs": [
        {
          "name": "stdout",
          "output_type": "stream",
          "text": [
            "▪ Input: My mother say hi.\n",
            "▪ Representacion en vector de tokens de ids [36, 356, 113, 11]\n",
            "▪ Padding del vector: [[  0   0   0   0   0  36 356 113  11]]\n",
            "\n",
            "1. Etapa Encoder:\n",
            "▪ Index/token de salida: 3\n",
            "▪ Palabra de salida: i\n",
            "\n",
            "2. Etapa Decoder:\n",
            "▪ Response: i love to read\n"
          ]
        }
      ],
      "source": [
        "input_test = \"My mother say hi.\"\n",
        "print('▪ Input:', input_test)\n",
        "integer_seq_test = input_tokenizer.texts_to_sequences([input_test])[0]\n",
        "print(\"▪ Representacion en vector de tokens de ids\", integer_seq_test)\n",
        "encoder_sequence_test = pad_sequences([integer_seq_test], maxlen=max_input_len)\n",
        "print(\"▪ Padding del vector:\", encoder_sequence_test)\n",
        "\n",
        "# ENCODER STEP\n",
        "encoder_sequence_test_tensor = torch.from_numpy(encoder_sequence_test.astype(np.int32))\n",
        "\n",
        "# Se obtiene la salida del encoder (el estado oculto para el decoder)\n",
        "prev_state = model.encoder(encoder_sequence_test_tensor.to(device))\n",
        "\n",
        "# Se inicializa la secuencia de entrada al decoder como \"<sos>\"\n",
        "target_seq = np.zeros((1, 1))\n",
        "target_seq[0, 0] = word2idx_outputs['<sos>']\n",
        "target_seq_tensor = torch.from_numpy(target_seq.astype(np.int32))\n",
        "\n",
        "# Se obtiene la primera palabra de la secuencia de salida del decoder\n",
        "output, prev_state = model.decoder(target_seq_tensor.to(device), prev_state)\n",
        "\n",
        "print(\"\\n1. Etapa Encoder:\")\n",
        "top1 = output.argmax(1).view(-1, 1)\n",
        "idx = int(top1.cpu())\n",
        "print(\"▪ Index/token de salida:\", idx)\n",
        "\n",
        "word = idx2word_target[idx]\n",
        "print(\"▪ Palabra de salida:\", word)\n",
        "\n",
        "print(\"\\n2. Etapa Decoder:\")\n",
        "\n",
        "integer_seq_test = input_tokenizer.texts_to_sequences([input_test])[0]\n",
        "encoder_sequence_test = pad_sequences([integer_seq_test], maxlen=max_input_len)\n",
        "encoder_sequence_test_tensor = torch.from_numpy(encoder_sequence_test.astype(np.int32))\n",
        "\n",
        "translation = translate_sentence(encoder_sequence_test)\n",
        "print('▪ Response:', translation)"
      ]
    },
    {
      "cell_type": "markdown",
      "metadata": {
        "id": "nZgJsNjS0xu1"
      },
      "source": [
        "### Test 2"
      ]
    },
    {
      "cell_type": "code",
      "execution_count": 45,
      "metadata": {
        "colab": {
          "base_uri": "https://localhost:8080/"
        },
        "id": "pXxMjybI0xu2",
        "outputId": "0a9fa985-48e8-4c19-d1f0-5073d0401f93"
      },
      "outputs": [
        {
          "name": "stdout",
          "output_type": "stream",
          "text": [
            "▪ Input: Your mother say bye.\n",
            "▪ Representacion en vector de tokens de ids [21, 356, 113, 58]\n",
            "▪ Padding del vector: [[  0   0   0   0   0  21 356 113  58]]\n",
            "\n",
            "1. Etapa Encoder:\n",
            "▪ Index/token de salida: 3\n",
            "▪ Palabra de salida: i\n",
            "\n",
            "2. Etapa Decoder:\n",
            "▪ Response: i like to read\n"
          ]
        }
      ],
      "source": [
        "input_test = \"Your mother say bye.\"\n",
        "print('▪ Input:', input_test)\n",
        "integer_seq_test = input_tokenizer.texts_to_sequences([input_test])[0]\n",
        "print(\"▪ Representacion en vector de tokens de ids\", integer_seq_test)\n",
        "encoder_sequence_test = pad_sequences([integer_seq_test], maxlen=max_input_len)\n",
        "print(\"▪ Padding del vector:\", encoder_sequence_test)\n",
        "\n",
        "# ENCODER STEP\n",
        "encoder_sequence_test_tensor = torch.from_numpy(encoder_sequence_test.astype(np.int32))\n",
        "\n",
        "# Se obtiene la salida del encoder (el estado oculto para el decoder)\n",
        "prev_state = model.encoder(encoder_sequence_test_tensor.to(device))\n",
        "\n",
        "# Se inicializa la secuencia de entrada al decoder como \"<sos>\"\n",
        "target_seq = np.zeros((1, 1))\n",
        "target_seq[0, 0] = word2idx_outputs['<sos>']\n",
        "target_seq_tensor = torch.from_numpy(target_seq.astype(np.int32))\n",
        "\n",
        "# Se obtiene la primera palabra de la secuencia de salida del decoder\n",
        "output, prev_state = model.decoder(target_seq_tensor.to(device), prev_state)\n",
        "\n",
        "print(\"\\n1. Etapa Encoder:\")\n",
        "top1 = output.argmax(1).view(-1, 1)\n",
        "idx = int(top1.cpu())\n",
        "print(\"▪ Index/token de salida:\", idx)\n",
        "\n",
        "word = idx2word_target[idx]\n",
        "print(\"▪ Palabra de salida:\", word)\n",
        "\n",
        "print(\"\\n2. Etapa Decoder:\")\n",
        "\n",
        "integer_seq_test = input_tokenizer.texts_to_sequences([input_test])[0]\n",
        "encoder_sequence_test = pad_sequences([integer_seq_test], maxlen=max_input_len)\n",
        "encoder_sequence_test_tensor = torch.from_numpy(encoder_sequence_test.astype(np.int32))\n",
        "\n",
        "translation = translate_sentence(encoder_sequence_test)\n",
        "print('▪ Response:', translation)"
      ]
    },
    {
      "cell_type": "markdown",
      "metadata": {
        "id": "XpoxEbnH1IG8"
      },
      "source": [
        "### Test 3"
      ]
    },
    {
      "cell_type": "code",
      "execution_count": 57,
      "metadata": {
        "colab": {
          "base_uri": "https://localhost:8080/"
        },
        "id": "W4EYrXuD1IG9",
        "outputId": "c009824e-54ea-4df4-e56f-51eb83c25759"
      },
      "outputs": [
        {
          "name": "stdout",
          "output_type": "stream",
          "text": [
            "▪ Input: What do you want from me?\n",
            "▪ Representacion en vector de tokens de ids [4, 3, 2, 92, 39, 35]\n",
            "▪ Padding del vector: [[ 0  0  0  4  3  2 92 39 35]]\n",
            "\n",
            "1. Etapa Encoder:\n",
            "▪ Index/token de salida: 3\n",
            "▪ Palabra de salida: i\n",
            "\n",
            "2. Etapa Decoder:\n",
            "▪ Response: i like to read\n"
          ]
        }
      ],
      "source": [
        "input_test = \"What do you want from me?\"\n",
        "print('▪ Input:', input_test)\n",
        "integer_seq_test = input_tokenizer.texts_to_sequences([input_test])[0]\n",
        "print(\"▪ Representacion en vector de tokens de ids\", integer_seq_test)\n",
        "encoder_sequence_test = pad_sequences([integer_seq_test], maxlen=max_input_len)\n",
        "print(\"▪ Padding del vector:\", encoder_sequence_test)\n",
        "\n",
        "# ENCODER STEP\n",
        "encoder_sequence_test_tensor = torch.from_numpy(encoder_sequence_test.astype(np.int32))\n",
        "\n",
        "# Se obtiene la salida del encoder (el estado oculto para el decoder)\n",
        "prev_state = model.encoder(encoder_sequence_test_tensor.to(device))\n",
        "\n",
        "# Se inicializa la secuencia de entrada al decoder como \"<sos>\"\n",
        "target_seq = np.zeros((1, 1))\n",
        "target_seq[0, 0] = word2idx_outputs['<sos>']\n",
        "target_seq_tensor = torch.from_numpy(target_seq.astype(np.int32))\n",
        "\n",
        "# Se obtiene la primera palabra de la secuencia de salida del decoder\n",
        "output, prev_state = model.decoder(target_seq_tensor.to(device), prev_state)\n",
        "\n",
        "print(\"\\n1. Etapa Encoder:\")\n",
        "top1 = output.argmax(1).view(-1, 1)\n",
        "idx = int(top1.cpu())\n",
        "print(\"▪ Index/token de salida:\", idx)\n",
        "\n",
        "word = idx2word_target[idx]\n",
        "print(\"▪ Palabra de salida:\", word)\n",
        "\n",
        "print(\"\\n2. Etapa Decoder:\")\n",
        "\n",
        "integer_seq_test = input_tokenizer.texts_to_sequences([input_test])[0]\n",
        "encoder_sequence_test = pad_sequences([integer_seq_test], maxlen=max_input_len)\n",
        "encoder_sequence_test_tensor = torch.from_numpy(encoder_sequence_test.astype(np.int32))\n",
        "\n",
        "translation = translate_sentence(encoder_sequence_test)\n",
        "print('▪ Response:', translation)"
      ]
    },
    {
      "cell_type": "markdown",
      "metadata": {
        "id": "6QIUJy4P1vkF"
      },
      "source": [
        "### Test 4"
      ]
    },
    {
      "cell_type": "code",
      "execution_count": 48,
      "metadata": {
        "colab": {
          "base_uri": "https://localhost:8080/"
        },
        "id": "prwZ3vK11R5L",
        "outputId": "9173aab5-e6fe-47bf-de7c-625ba47c191c"
      },
      "outputs": [
        {
          "name": "stdout",
          "output_type": "stream",
          "text": [
            "▪ Input: i am from ohio how about you \n",
            "▪ Response: i am good\n"
          ]
        }
      ],
      "source": [
        "i = np.random.choice(len(input_sentences))\n",
        "input_seq = encoder_input_sequences[i:i+1]\n",
        "encoder_sequence_test_tensor = torch.from_numpy(input_seq.astype(np.int32))\n",
        "translation = translate_sentence(encoder_sequence_test_tensor)\n",
        "print('▪ Input:', input_sentences[i])\n",
        "print('▪ Response:', translation)"
      ]
    },
    {
      "cell_type": "code",
      "execution_count": null,
      "metadata": {
        "colab": {
          "base_uri": "https://localhost:8080/"
        },
        "id": "4J739D-c2agw",
        "outputId": "03d118a0-ccc2-4f3d-97b2-ede9a8246143"
      },
      "outputs": [
        {
          "name": "stdout",
          "output_type": "stream",
          "text": [
            "▪ Input: bye\n",
            "▪ Response: i love to read \n",
            "\n",
            "▪ Input: coffee is the best thing\n",
            "▪ Response: i like to \n",
            "\n",
            "▪ Input: how are you \n",
            "▪ Response: i am good \n",
            "\n",
            "▪ Input: what do you do for a living \n",
            "▪ Response: i am a girl i am a girl \n",
            "\n",
            "▪ Input: where from the book i issue \n",
            "▪ Response: i am a girl \n",
            "\n",
            "▪ Input:  \n",
            "▪ Response: i love to read \n",
            "\n",
            "▪ Input: what\n",
            "▪ Response: i love to read \n",
            "\n",
            "▪ Input: what do you do for a living \n",
            "▪ Response: i am a girl i am a girl \n",
            "\n",
            "▪ Input: i do not know what to say\n",
            "▪ Response: i love to read \n",
            "\n",
            "▪ Input: pursuing bba\n",
            "▪ Response: i like to read \n",
            "\n",
            "▪ Input: nice\n",
            "▪ Response: i love to read \n",
            "\n",
            "▪ Input: do you cook papayas_\n",
            "▪ Response: i like to read \n",
            "\n",
            "▪ Input: same for you\n",
            "▪ Response: i like to read \n",
            "\n",
            "▪ Input: fine \n",
            "▪ Response: i love to read \n",
            "\n",
            "▪ Input: what city are you from \n",
            "▪ Response: i am a girl i am a girl \n",
            "\n",
            "▪ Input: i have already told u\n",
            "▪ Response: i am a girl i am a girl \n",
            "\n",
            "▪ Input: how r you\n",
            "▪ Response: i am a girl i am a girl \n",
            "\n",
            "▪ Input: ntg\n",
            "▪ Response: i love to read \n",
            "\n",
            "▪ Input: what do you do for fun \n",
            "▪ Response: i am a girl \n",
            "\n",
            "▪ Input: do you have any hobbies \n",
            "▪ Response: i am a girl \n",
            "\n"
          ]
        }
      ],
      "source": [
        "# Se realizan 20 inferencias de modo aleatorio\n",
        "\n",
        "for n in range(20):\n",
        "  i = np.random.choice(len(input_sentences))\n",
        "  input_seq = encoder_input_sequences[i:i+1]\n",
        "  encoder_sequence_test_tensor = torch.from_numpy(input_seq.astype(np.int32))\n",
        "  translation = translate_sentence(encoder_sequence_test_tensor)\n",
        "  print('▪ Input:', input_sentences[i])\n",
        "  print('▪ Response:', translation,\"\\n\")"
      ]
    },
    {
      "cell_type": "markdown",
      "metadata": {},
      "source": [
        "# Análisis de resultados"
      ]
    },
    {
      "cell_type": "markdown",
      "metadata": {},
      "source": [
        "Observaciones del resultado:\n",
        "- Se ha conseguido que el output sean oraciones coherentes *per se*, pero no así dentro del contexto del diálogo.\n",
        "- El resultado es bastante determinista, todas las oraciones comienzan con \"i\" y ofrece un pequeño repertorio de frases para múltiples inputs:\n",
        "    - \"i love to read\" o \"i like to read\"\n",
        "    - \"i am a girl\" o \"i am a girl i am a girl\"\n",
        "    - \"i am good\"\n",
        "\n",
        "En comparación con los otros modelos entrenados, el resultado es órdenes de magnitud mejor, dado que los otros modelos simplemente respondían siempre con una misma frase (por ejemplo, \"i am vegan\", \"i am\" o simplemente \"i i i i i i i i i i\")"
      ]
    },
    {
      "cell_type": "markdown",
      "metadata": {},
      "source": [
        "### Contra-ejemplo hilarante"
      ]
    },
    {
      "cell_type": "markdown",
      "metadata": {},
      "source": [
        "Esta fue una de las pruebas realizadas con los mismmos hiperparámetros pero entrenando por el doble de épocas (1000 en total). El resultado fue claramente peor…"
      ]
    },
    {
      "cell_type": "code",
      "execution_count": null,
      "metadata": {},
      "outputs": [
        {
          "name": "stdout",
          "output_type": "stream",
          "text": [
            "▪ Input: so what \n",
            "▪ Response: i am a vegan \n",
            "\n",
            "▪ Input: do you have any pets \n",
            "▪ Response: i am a vegan \n",
            "\n",
            "▪ Input: you ask me my favorite color\n",
            "▪ Response: i am a vegan \n",
            "\n",
            "▪ Input: what is your favorite game \n",
            "▪ Response: i am a vegan \n",
            "\n",
            "▪ Input: i take photos of many things\n",
            "▪ Response: i am a vegan \n",
            "\n",
            "▪ Input: me to\n",
            "▪ Response: i am a vegan \n",
            "\n",
            "▪ Input: yes i m do you like bees \n",
            "▪ Response: i am a vegan \n",
            "\n",
            "▪ Input: what do you do for a living \n",
            "▪ Response: i am a vegan \n",
            "\n",
            "▪ Input: what is your favorite book \n",
            "▪ Response: i am a vegan \n",
            "\n",
            "▪ Input: ok\n",
            "▪ Response: i am a vegan \n",
            "\n",
            "▪ Input: hi how are you today\n",
            "▪ Response: i am a vegan \n",
            "\n",
            "▪ Input: nice\n",
            "▪ Response: i am a vegan \n",
            "\n",
            "▪ Input: what do you do for a living \n",
            "▪ Response: i am a vegan \n",
            "\n",
            "▪ Input: where it is\n",
            "▪ Response: i am a vegan \n",
            "\n",
            "▪ Input: what do you do for a living \n",
            "▪ Response: i am a vegan \n",
            "\n",
            "▪ Input: what do you do for a living \n",
            "▪ Response: i am a vegan \n",
            "\n",
            "▪ Input: currently nthg\n",
            "▪ Response: i am a vegan \n",
            "\n",
            "▪ Input: oh i see so you are a girl \n",
            "▪ Response: i am a vegan \n",
            "\n",
            "▪ Input: nice\n",
            "▪ Response: i am a vegan \n",
            "\n",
            "▪ Input: complain\n",
            "▪ Response: i am a vegan \n",
            "\n"
          ]
        }
      ],
      "source": [
        "for n in range(20):\n",
        "  i = np.random.choice(len(input_sentences))\n",
        "  input_seq = encoder_input_sequences[i:i+1]\n",
        "  encoder_sequence_test_tensor = torch.from_numpy(input_seq.astype(np.int32))\n",
        "  translation = translate_sentence(encoder_sequence_test_tensor)\n",
        "  print('▪ Input:', input_sentences[i])\n",
        "  print('▪ Response:', translation,\"\\n\")"
      ]
    },
    {
      "cell_type": "markdown",
      "metadata": {},
      "source": [
        "#### Detalle del entrenamiento\n",
        "[Ver Notebook](https://github.com/MLsound/procesamiento_lenguaje_natural/blob/main/clase_6/ejercicios/1000epochs/Desafio_4.ipynb)"
      ]
    },
    {
      "cell_type": "code",
      "execution_count": null,
      "metadata": {},
      "outputs": [
        {
          "data": {
            "image/png": "[encoded data removed]",
            "text/plain": [
              "<Figure size 640x480 with 1 Axes>"
            ]
          },
          "metadata": {},
          "output_type": "display_data"
        }
      ],
      "source": [
        "import seaborn as sns\n",
        "import matplotlib.pyplot as plt\n",
        "epoch_count = range(1, len(history1['accuracy']) + 1)\n",
        "sns.lineplot(x=epoch_count,  y=history1['accuracy'], label='train')\n",
        "sns.lineplot(x=epoch_count,  y=history1['val_accuracy'], label='valid')\n",
        "plt.show()"
      ]
    },
    {
      "cell_type": "markdown",
      "metadata": {},
      "source": [
        "Detalle de hiperparámetros:\n",
        " - lstm_size = 128\n",
        " - num_layers = 1\n",
        " - Entrenado por 1000 epochs\n",
        " - GloveEmbeddings()\n",
        "    - N_FEATURES = 50\n",
        "    - WORD_MAX_SIZE = 60\n",
        "- MAX_VOCAB_SIZE = 8000"
      ]
    },
    {
      "cell_type": "markdown",
      "metadata": {
        "id": "7xNBT4KA2agw"
      },
      "source": [
        "# Conclusiones"
      ]
    },
    {
      "cell_type": "markdown",
      "metadata": {
        "id": "n9kZnJ7D2agw"
      },
      "source": [
        "El modelo presentado es el que alcanzó los mejores resultados entre todas las pruebas realizadas. Así y todo, como puede verse en las pruebas de inferencia el resultado es pobre.\n",
        "\n",
        "Entrenando sólo durante 50 epochs accuracy para train y val daban casi lo mismo y se movían muy poco entre épocas, evidenciando que el modelo no estaba aprendiendo realmente. Por eso fui incrementando progresivamente el número de epochs hasta llegar a 500, y luego a 1000.\n",
        "\n",
        "Se experimento además:\n",
        " - incrementando el learning rate sin llegar a mejores resultados.\n",
        " - implementando un scheduler para reducir el learning rate, intentnado evitar ese lapsus inicial.\n",
        " - incorporando dropout a la salida de las capas.\n",
        " - incrementando la cantidad de capas y el número neuronas.\n",
        " \n",
        " Los resultados emeporaban en todos los casos."
      ]
    },
    {
      "cell_type": "markdown",
      "metadata": {},
      "source": [
        "La conclusión final luego de haber realizado los distintos proyectos para la materia, es que entrenar modelos de NLP que aporten resultados útiles a fines prácticos es una tarea compleja, que demanda muchos recursos de hardware (RAM, CPU y GPU) y es altamente sensible a la clidad de los datos de entrada. Si el dataset está sesgado o es imcompleto la calidad de los resultados decae abruptamente."
      ]
    }
  ],
  "metadata": {
    "accelerator": "GPU",
    "colab": {
      "provenance": []
    },
    "kernelspec": {
      "display_name": "venv310",
      "language": "python",
      "name": "python3"
    },
    "language_info": {
      "codemirror_mode": {
        "name": "ipython",
        "version": 3
      },
      "file_extension": ".py",
      "mimetype": "text/x-python",
      "name": "python",
      "nbconvert_exporter": "python",
      "pygments_lexer": "ipython3",
      "version": "3.10.14"
    }
  },
  "nbformat": 4,
  "nbformat_minor": 0
}
